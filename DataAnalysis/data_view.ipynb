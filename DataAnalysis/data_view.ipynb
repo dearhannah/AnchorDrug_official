{
 "cells": [
  {
   "cell_type": "code",
   "execution_count": 1,
   "metadata": {},
   "outputs": [],
   "source": [
    "from __future__ import print_function\n",
    "import torch.utils.data as data\n",
    "import pandas as pd\n",
    "import numpy as np\n",
    "import random\n",
    "from tqdm import tqdm\n",
    "from rdkit import Chem\n",
    "from rdkit.Chem import AllChem\n",
    "\n",
    "\n",
    "def get_morgan_fingerprint(mol, radius, nBits, FCFP=False):\n",
    "    m = Chem.MolFromSmiles(mol)\n",
    "    fp = AllChem.GetMorganFingerprintAsBitVect(m, radius=radius, nBits=nBits, useFeatures=FCFP)\n",
    "    fp_bits = fp.ToBitString()\n",
    "    finger_print = np.fromstring(fp_bits, 'u1') - ord('0')\n",
    "    return finger_print\n",
    "\n",
    "\n",
    "class DrugGene(data.Dataset):\n",
    "    def __init__(self, df, down_sample=True, random_seed=0):\n",
    "        fn = '../data/go_fingerprints_2020.csv'\n",
    "        gene_map = pd.read_csv(fn)\n",
    "        self.gene_name = gene_map['gene']\n",
    "        gene_map = gene_map.drop(columns='gene', axis=1)\n",
    "        self.gene_map = gene_map.to_numpy()\n",
    "\n",
    "        fn = '../data/drug_fingerprints-1024.csv'\n",
    "        fp_map = pd.read_csv(fn, header=None, index_col=0)\n",
    "        self.fp_name = fp_map.index\n",
    "        self.fp_map = fp_map.to_numpy()\n",
    "\n",
    "        self.df = df\n",
    "        self.random_seed = random_seed\n",
    "        self.down_sample = down_sample  # training set or test.txt set\n",
    "\n",
    "        print(df.shape)\n",
    "        labels = np.asarray(df['label'])\n",
    "        smiles = df['smiles']\n",
    "        genes = df['gene']  # be careful, label index need to be reset using np.array\n",
    "        # quality = np.asarray(df['quality'])\n",
    "        if self.down_sample:\n",
    "            idx_in = self.down_sampling(labels)\n",
    "            smiles = df['smiles'][idx_in]\n",
    "            genes = df['gene'][idx_in]\n",
    "            labels = np.asarray(df['label'][idx_in])  # be careful, label index need to be reset using np.array\n",
    "            # quality = np.asarray(df['quality'][idx_in])\n",
    "\n",
    "        print(\"get drug features\")\n",
    "        smiles_feature = self.get_drug_fp_batch(smiles).astype(np.float32)\n",
    "        print(\"get gene features\")\n",
    "        genes_feature = self.get_gene_ft_batch(genes).astype(np.float32)\n",
    "        data = np.concatenate([smiles_feature, genes_feature], axis=1)\n",
    "\n",
    "        # self.data, self.labels, self.quality = data, labels, quality\n",
    "        self.data, self.labels = data, labels\n",
    "        self.genes, self.smiles = genes, smiles\n",
    "\n",
    "        unique, counts = np.unique(self.labels, return_counts=True)\n",
    "        print(counts)\n",
    "\n",
    "        print('data shape:')\n",
    "        print(self.data.shape)\n",
    "        print(self.labels.shape)\n",
    "\n",
    "    def __getitem__(self, index):\n",
    "        \"\"\"\n",
    "        Args:\n",
    "            index (int): Index\n",
    "\n",
    "        Returns:\n",
    "            tuple: (image, target) where target is index of the target class.\n",
    "        \"\"\"\n",
    "        return self.data[index], self.labels[index], index\n",
    "\n",
    "    def __len__(self):\n",
    "        return len(self.data)\n",
    "\n",
    "    def down_sampling(self, y):\n",
    "        unique, counts = np.unique(y, return_counts=True)\n",
    "        max_idx = np.argmax(counts)\n",
    "        max_value = unique[max_idx]\n",
    "        max_counts = counts[max_idx]\n",
    "        n_select = np.int((np.sum(counts) - max_counts) * 0.5)\n",
    "        print('max_value, max_counts, n_select')\n",
    "        print(max_value, max_counts, n_select)\n",
    "\n",
    "        random.seed(self.random_seed)\n",
    "        tmp = list(np.where(y == max_value)[0])\n",
    "        idx_select = random.sample(tmp, k=n_select)\n",
    "        idx_select.sort()\n",
    "        idx_select = np.array(idx_select)\n",
    "        idx_final = np.concatenate([np.where(y == 0)[0], idx_select, np.where(y == 2)[0]])\n",
    "\n",
    "        return idx_final\n",
    "\n",
    "    def get_gene_ft_batch(self, gene):\n",
    "        gene_features = []\n",
    "        for g in tqdm(gene):\n",
    "            idx = np.where(self.gene_name == g)[0][0]\n",
    "            gene_features.append(self.gene_map[idx])\n",
    "        gene_features = np.array(gene_features)\n",
    "        # print(gene_features.shape)\n",
    "        return gene_features\n",
    "\n",
    "    def get_drug_fp_batch(self, smile):\n",
    "        fp_features = []\n",
    "        for s in tqdm(smile):\n",
    "            # print(s)\n",
    "            try:\n",
    "                idx = np.where(self.fp_name == s)[0][0]\n",
    "                fp_features.append(self.fp_map[idx])\n",
    "            except:\n",
    "                print(s)\n",
    "                fp_features.append(get_morgan_fingerprint(s, 3, 1024, FCFP=False))\n",
    "        fp_features = np.array(fp_features)\n",
    "        # print(fp_features.shape)\n",
    "        return fp_features\n",
    "\n",
    "\n",
    "class Drug(data.Dataset):\n",
    "    def __init__(self, df):\n",
    "        fn = '../data/drug_fingerprints-1024.csv'\n",
    "        # fn = '../data/ref_gnn_fp-512.csv'\n",
    "        fp_map = pd.read_csv(fn, header=None, index_col=0)\n",
    "        self.fp_name = fp_map.index\n",
    "        self.fp_map = fp_map.to_numpy()\n",
    "\n",
    "        # print(df.shape)\n",
    "        labels = np.asarray(df['label']).astype(np.float32)\n",
    "        smiles = df['smiles'].to_list()\n",
    "        print(\"get drug features\")\n",
    "        data = self.get_drug_fp_batch(smiles).astype(np.float32)\n",
    "\n",
    "        self.data, self.labels = data, labels\n",
    "        self.smiles, self.df = smiles, df\n",
    "\n",
    "        print('data shape:')\n",
    "        print(self.data.shape)\n",
    "        print(self.labels.shape)\n",
    "\n",
    "    def __getitem__(self, index):\n",
    "        \"\"\"\n",
    "        Args:\n",
    "            index (int): Index\n",
    "\n",
    "        Returns:\n",
    "            tuple: (image, target) where target is index of the target class.\n",
    "        \"\"\"\n",
    "        return self.data[index], self.labels[index], index\n",
    "\n",
    "    def __len__(self):\n",
    "        return len(self.data)\n",
    "\n",
    "    def get_drug_fp_batch(self, smile):\n",
    "        fp_features = []\n",
    "        for s in tqdm(smile):\n",
    "            # print(s)\n",
    "            try:\n",
    "                idx = np.where(self.fp_name == s)[0][0]\n",
    "                fp_features.append(self.fp_map[idx])\n",
    "            except:\n",
    "                print(s)\n",
    "                fp_features.append(get_morgan_fingerprint(s, 3, 1024, FCFP=False))\n",
    "        fp_features = np.array(fp_features)\n",
    "        # print(fp_features.shape)\n",
    "        return fp_features\n"
   ]
  },
  {
   "cell_type": "code",
   "execution_count": 5,
   "metadata": {},
   "outputs": [
    {
     "name": "stdout",
     "output_type": "stream",
     "text": [
      "gene == MYC\n",
      "train cell ASC\n",
      "get drug features\n"
     ]
    },
    {
     "name": "stderr",
     "output_type": "stream",
     "text": [
      "100%|██████████| 76/76 [00:00<00:00, 2168.29it/s]"
     ]
    },
    {
     "name": "stdout",
     "output_type": "stream",
     "text": [
      "data shape:\n",
      "(76, 1024)\n",
      "(76,)\n"
     ]
    },
    {
     "name": "stderr",
     "output_type": "stream",
     "text": [
      "\n"
     ]
    },
    {
     "name": "stdout",
     "output_type": "stream",
     "text": [
      "get drug features\n"
     ]
    },
    {
     "name": "stderr",
     "output_type": "stream",
     "text": [
      "100%|██████████| 945/945 [00:00<00:00, 2240.49it/s]\n"
     ]
    },
    {
     "name": "stdout",
     "output_type": "stream",
     "text": [
      "data shape:\n",
      "(945, 1024)\n",
      "(945,)\n",
      "train cell NPC\n",
      "get drug features\n"
     ]
    },
    {
     "name": "stderr",
     "output_type": "stream",
     "text": [
      "100%|██████████| 76/76 [00:00<00:00, 1624.15it/s]"
     ]
    },
    {
     "name": "stdout",
     "output_type": "stream",
     "text": [
      "data shape:\n",
      "(76, 1024)\n",
      "(76,)\n"
     ]
    },
    {
     "name": "stderr",
     "output_type": "stream",
     "text": [
      "\n"
     ]
    },
    {
     "name": "stdout",
     "output_type": "stream",
     "text": [
      "get drug features\n"
     ]
    },
    {
     "name": "stderr",
     "output_type": "stream",
     "text": [
      "100%|██████████| 1158/1158 [00:00<00:00, 1865.50it/s]\n"
     ]
    },
    {
     "name": "stdout",
     "output_type": "stream",
     "text": [
      "data shape:\n",
      "(1158, 1024)\n",
      "(1158,)\n",
      "train cell HCC515\n",
      "get drug features\n"
     ]
    },
    {
     "name": "stderr",
     "output_type": "stream",
     "text": [
      "100%|██████████| 76/76 [00:00<00:00, 2311.35it/s]"
     ]
    },
    {
     "name": "stdout",
     "output_type": "stream",
     "text": [
      "data shape:\n",
      "(76, 1024)\n",
      "(76,)\n"
     ]
    },
    {
     "name": "stderr",
     "output_type": "stream",
     "text": [
      "\n"
     ]
    },
    {
     "name": "stdout",
     "output_type": "stream",
     "text": [
      "get drug features\n"
     ]
    },
    {
     "name": "stderr",
     "output_type": "stream",
     "text": [
      "100%|██████████| 1301/1301 [00:00<00:00, 2193.86it/s]\n"
     ]
    },
    {
     "name": "stdout",
     "output_type": "stream",
     "text": [
      "data shape:\n",
      "(1301, 1024)\n",
      "(1301,)\n",
      "train cell HT29\n",
      "get drug features\n"
     ]
    },
    {
     "name": "stderr",
     "output_type": "stream",
     "text": [
      "100%|██████████| 76/76 [00:00<00:00, 2213.92it/s]"
     ]
    },
    {
     "name": "stdout",
     "output_type": "stream",
     "text": [
      "data shape:\n",
      "(76, 1024)\n",
      "(76,)\n"
     ]
    },
    {
     "name": "stderr",
     "output_type": "stream",
     "text": [
      "\n"
     ]
    },
    {
     "name": "stdout",
     "output_type": "stream",
     "text": [
      "get drug features\n"
     ]
    },
    {
     "name": "stderr",
     "output_type": "stream",
     "text": [
      "100%|██████████| 1348/1348 [00:00<00:00, 2351.61it/s]\n"
     ]
    },
    {
     "name": "stdout",
     "output_type": "stream",
     "text": [
      "data shape:\n",
      "(1348, 1024)\n",
      "(1348,)\n",
      "train cell A375\n",
      "get drug features\n"
     ]
    },
    {
     "name": "stderr",
     "output_type": "stream",
     "text": [
      "100%|██████████| 76/76 [00:00<00:00, 2263.89it/s]"
     ]
    },
    {
     "name": "stdout",
     "output_type": "stream",
     "text": [
      "data shape:\n",
      "(76, 1024)\n",
      "(76,)\n"
     ]
    },
    {
     "name": "stderr",
     "output_type": "stream",
     "text": [
      "\n"
     ]
    },
    {
     "name": "stdout",
     "output_type": "stream",
     "text": [
      "get drug features\n"
     ]
    },
    {
     "name": "stderr",
     "output_type": "stream",
     "text": [
      "100%|██████████| 1959/1959 [00:00<00:00, 2302.90it/s]\n"
     ]
    },
    {
     "name": "stdout",
     "output_type": "stream",
     "text": [
      "data shape:\n",
      "(1959, 1024)\n",
      "(1959,)\n",
      "train cell HA1E\n",
      "get drug features\n"
     ]
    },
    {
     "name": "stderr",
     "output_type": "stream",
     "text": [
      "100%|██████████| 76/76 [00:00<00:00, 2315.80it/s]"
     ]
    },
    {
     "name": "stdout",
     "output_type": "stream",
     "text": [
      "data shape:\n",
      "(76, 1024)\n",
      "(76,)\n"
     ]
    },
    {
     "name": "stderr",
     "output_type": "stream",
     "text": [
      "\n"
     ]
    },
    {
     "name": "stdout",
     "output_type": "stream",
     "text": [
      "get drug features\n"
     ]
    },
    {
     "name": "stderr",
     "output_type": "stream",
     "text": [
      "100%|██████████| 2056/2056 [00:00<00:00, 2057.60it/s]\n"
     ]
    },
    {
     "name": "stdout",
     "output_type": "stream",
     "text": [
      "data shape:\n",
      "(2056, 1024)\n",
      "(2056,)\n",
      "train cell VCAP\n",
      "get drug features\n"
     ]
    },
    {
     "name": "stderr",
     "output_type": "stream",
     "text": [
      "100%|██████████| 76/76 [00:00<00:00, 2440.04it/s]"
     ]
    },
    {
     "name": "stdout",
     "output_type": "stream",
     "text": [
      "data shape:\n",
      "(76, 1024)\n",
      "(76,)\n"
     ]
    },
    {
     "name": "stderr",
     "output_type": "stream",
     "text": [
      "\n"
     ]
    },
    {
     "name": "stdout",
     "output_type": "stream",
     "text": [
      "get drug features\n"
     ]
    },
    {
     "name": "stderr",
     "output_type": "stream",
     "text": [
      "100%|██████████| 2105/2105 [00:00<00:00, 2637.36it/s]\n"
     ]
    },
    {
     "name": "stdout",
     "output_type": "stream",
     "text": [
      "data shape:\n",
      "(2105, 1024)\n",
      "(2105,)\n",
      "train cell A549\n",
      "get drug features\n"
     ]
    },
    {
     "name": "stderr",
     "output_type": "stream",
     "text": [
      "100%|██████████| 76/76 [00:00<00:00, 3108.95it/s]"
     ]
    },
    {
     "name": "stdout",
     "output_type": "stream",
     "text": [
      "data shape:\n",
      "(76, 1024)\n",
      "(76,)\n"
     ]
    },
    {
     "name": "stderr",
     "output_type": "stream",
     "text": [
      "\n"
     ]
    },
    {
     "name": "stdout",
     "output_type": "stream",
     "text": [
      "get drug features\n"
     ]
    },
    {
     "name": "stderr",
     "output_type": "stream",
     "text": [
      "100%|██████████| 2497/2497 [00:00<00:00, 2990.91it/s]\n"
     ]
    },
    {
     "name": "stdout",
     "output_type": "stream",
     "text": [
      "data shape:\n",
      "(2497, 1024)\n",
      "(2497,)\n",
      "train cell PC3\n",
      "get drug features\n"
     ]
    },
    {
     "name": "stderr",
     "output_type": "stream",
     "text": [
      "100%|██████████| 76/76 [00:00<00:00, 3110.71it/s]"
     ]
    },
    {
     "name": "stdout",
     "output_type": "stream",
     "text": [
      "data shape:\n",
      "(76, 1024)\n",
      "(76,)\n"
     ]
    },
    {
     "name": "stderr",
     "output_type": "stream",
     "text": [
      "\n"
     ]
    },
    {
     "name": "stdout",
     "output_type": "stream",
     "text": [
      "get drug features\n"
     ]
    },
    {
     "name": "stderr",
     "output_type": "stream",
     "text": [
      "100%|██████████| 2984/2984 [00:01<00:00, 2363.01it/s]\n"
     ]
    },
    {
     "name": "stdout",
     "output_type": "stream",
     "text": [
      "data shape:\n",
      "(2984, 1024)\n",
      "(2984,)\n",
      "train cell MCF7\n",
      "get drug features\n"
     ]
    },
    {
     "name": "stderr",
     "output_type": "stream",
     "text": [
      "100%|██████████| 76/76 [00:00<00:00, 2468.92it/s]"
     ]
    },
    {
     "name": "stdout",
     "output_type": "stream",
     "text": [
      "data shape:\n",
      "(76, 1024)\n",
      "(76,)\n"
     ]
    },
    {
     "name": "stderr",
     "output_type": "stream",
     "text": [
      "\n"
     ]
    },
    {
     "name": "stdout",
     "output_type": "stream",
     "text": [
      "get drug features\n"
     ]
    },
    {
     "name": "stderr",
     "output_type": "stream",
     "text": [
      "100%|██████████| 3178/3178 [00:01<00:00, 2232.33it/s]"
     ]
    },
    {
     "name": "stdout",
     "output_type": "stream",
     "text": [
      "data shape:\n",
      "(3178, 1024)\n",
      "(3178,)\n"
     ]
    },
    {
     "name": "stderr",
     "output_type": "stream",
     "text": [
      "\n"
     ]
    }
   ],
   "source": [
    "import pickle\n",
    "import pandas as pd\n",
    "\n",
    "input = 'drug'\n",
    "# input = 'druggene'\n",
    "\n",
    "with open(\"anchor_trial_drugs\", \"rb\") as fp:\n",
    "    anchor_drugs = pickle.load(fp)\n",
    "\n",
    "print('gene == MYC')\n",
    "cell_list = ['ASC', 'NPC', 'HCC515', 'HT29', 'A375', 'HA1E', 'VCAP', 'A549', 'PC3', 'MCF7']\n",
    "df_data = pd.read_csv('/localscratch2/han/Pretrain_LINCS/data/LINCS2020_l5_cmpd_24h_10uM/level5_beta_trt_cp_24h_10uM.csv')\n",
    "df_data = df_data[df_data['cell_iname'].isin(cell_list)]\n",
    "# df_data.to_csv('10_cell_line.csv')\n",
    "for cell in cell_list:\n",
    "    print('train cell '+cell)\n",
    "    df_finetune = df_data[df_data['cell_iname'] == cell]\n",
    "    df_finetune = df_finetune[['SMILES', 'MYC']].groupby(by='SMILES').median().reset_index()\n",
    "    df_finetune = df_finetune.rename(columns={'MYC': 'label', 'SMILES': 'smiles'})\n",
    "        \n",
    "    test_drugs = list(set(df_finetune['smiles'].to_list())-set(anchor_drugs))\n",
    "    df_fine_train = df_finetune[df_finetune['smiles'].isin(anchor_drugs)]\n",
    "    df_fine_test = df_finetune[df_finetune['smiles'].isin(test_drugs)]\n",
    "\n",
    "    if input == 'drug':\n",
    "        finetune_train_dataset = Drug(df=df_fine_train)\n",
    "        finetune_test_dataset = Drug(df=df_fine_test)\n",
    "    elif input == 'druggene':\n",
    "        finetune_train_dataset = DrugGene(df=df_fine_train, down_sample=False)\n",
    "        finetune_test_dataset = DrugGene(df=df_fine_test, down_sample=False)"
   ]
  },
  {
   "cell_type": "code",
   "execution_count": 1,
   "metadata": {},
   "outputs": [],
   "source": [
    "import pandas as pd"
   ]
  },
  {
   "cell_type": "code",
   "execution_count": 14,
   "metadata": {},
   "outputs": [
    {
     "data": {
      "text/html": [
       "<div>\n",
       "<style scoped>\n",
       "    .dataframe tbody tr th:only-of-type {\n",
       "        vertical-align: middle;\n",
       "    }\n",
       "\n",
       "    .dataframe tbody tr th {\n",
       "        vertical-align: top;\n",
       "    }\n",
       "\n",
       "    .dataframe thead th {\n",
       "        text-align: right;\n",
       "    }\n",
       "</style>\n",
       "<table border=\"1\" class=\"dataframe\">\n",
       "  <thead>\n",
       "    <tr style=\"text-align: right;\">\n",
       "      <th></th>\n",
       "      <th>0</th>\n",
       "      <th>1</th>\n",
       "      <th>2</th>\n",
       "      <th>3</th>\n",
       "      <th>4</th>\n",
       "      <th>5</th>\n",
       "      <th>6</th>\n",
       "      <th>7</th>\n",
       "      <th>8</th>\n",
       "      <th>9</th>\n",
       "      <th>...</th>\n",
       "      <th>118</th>\n",
       "      <th>119</th>\n",
       "      <th>120</th>\n",
       "      <th>121</th>\n",
       "      <th>122</th>\n",
       "      <th>123</th>\n",
       "      <th>124</th>\n",
       "      <th>125</th>\n",
       "      <th>126</th>\n",
       "      <th>127</th>\n",
       "    </tr>\n",
       "  </thead>\n",
       "  <tbody>\n",
       "    <tr>\n",
       "      <th>PC3</th>\n",
       "      <td>-0.312864</td>\n",
       "      <td>1.835685</td>\n",
       "      <td>-0.553374</td>\n",
       "      <td>1.626945</td>\n",
       "      <td>1.882913</td>\n",
       "      <td>-3.021637</td>\n",
       "      <td>-1.744720</td>\n",
       "      <td>0.774464</td>\n",
       "      <td>0.279778</td>\n",
       "      <td>1.372928</td>\n",
       "      <td>...</td>\n",
       "      <td>-1.371159</td>\n",
       "      <td>-1.811128</td>\n",
       "      <td>-2.606264</td>\n",
       "      <td>-0.248490</td>\n",
       "      <td>1.861487</td>\n",
       "      <td>-0.837809</td>\n",
       "      <td>-0.397481</td>\n",
       "      <td>2.389030</td>\n",
       "      <td>1.974789</td>\n",
       "      <td>2.150697</td>\n",
       "    </tr>\n",
       "    <tr>\n",
       "      <th>A549</th>\n",
       "      <td>-0.411082</td>\n",
       "      <td>-0.611002</td>\n",
       "      <td>0.754470</td>\n",
       "      <td>-0.360971</td>\n",
       "      <td>-0.377884</td>\n",
       "      <td>0.132923</td>\n",
       "      <td>1.506301</td>\n",
       "      <td>3.744813</td>\n",
       "      <td>-0.209339</td>\n",
       "      <td>1.329737</td>\n",
       "      <td>...</td>\n",
       "      <td>-2.421390</td>\n",
       "      <td>0.237642</td>\n",
       "      <td>0.273738</td>\n",
       "      <td>-1.381825</td>\n",
       "      <td>-0.789053</td>\n",
       "      <td>1.590336</td>\n",
       "      <td>0.346917</td>\n",
       "      <td>1.029464</td>\n",
       "      <td>-1.565292</td>\n",
       "      <td>-1.662287</td>\n",
       "    </tr>\n",
       "    <tr>\n",
       "      <th>MCF7</th>\n",
       "      <td>-2.455031</td>\n",
       "      <td>-0.053608</td>\n",
       "      <td>-1.027708</td>\n",
       "      <td>-0.003675</td>\n",
       "      <td>-1.523577</td>\n",
       "      <td>0.937249</td>\n",
       "      <td>1.359096</td>\n",
       "      <td>-4.238229</td>\n",
       "      <td>-0.315477</td>\n",
       "      <td>-2.155535</td>\n",
       "      <td>...</td>\n",
       "      <td>1.893407</td>\n",
       "      <td>0.975380</td>\n",
       "      <td>2.973980</td>\n",
       "      <td>0.568290</td>\n",
       "      <td>-1.163515</td>\n",
       "      <td>-0.803519</td>\n",
       "      <td>0.246548</td>\n",
       "      <td>-2.377404</td>\n",
       "      <td>-1.030902</td>\n",
       "      <td>-2.768969</td>\n",
       "    </tr>\n",
       "  </tbody>\n",
       "</table>\n",
       "<p>3 rows × 128 columns</p>\n",
       "</div>"
      ],
      "text/plain": [
       "             0         1         2         3         4         5         6  \\\n",
       "PC3  -0.312864  1.835685 -0.553374  1.626945  1.882913 -3.021637 -1.744720   \n",
       "A549 -0.411082 -0.611002  0.754470 -0.360971 -0.377884  0.132923  1.506301   \n",
       "MCF7 -2.455031 -0.053608 -1.027708 -0.003675 -1.523577  0.937249  1.359096   \n",
       "\n",
       "             7         8         9  ...       118       119       120  \\\n",
       "PC3   0.774464  0.279778  1.372928  ... -1.371159 -1.811128 -2.606264   \n",
       "A549  3.744813 -0.209339  1.329737  ... -2.421390  0.237642  0.273738   \n",
       "MCF7 -4.238229 -0.315477 -2.155535  ...  1.893407  0.975380  2.973980   \n",
       "\n",
       "           121       122       123       124       125       126       127  \n",
       "PC3  -0.248490  1.861487 -0.837809 -0.397481  2.389030  1.974789  2.150697  \n",
       "A549 -1.381825 -0.789053  1.590336  0.346917  1.029464 -1.565292 -1.662287  \n",
       "MCF7  0.568290 -1.163515 -0.803519  0.246548 -2.377404 -1.030902 -2.768969  \n",
       "\n",
       "[3 rows x 128 columns]"
      ]
     },
     "execution_count": 14,
     "metadata": {},
     "output_type": "execute_result"
    }
   ],
   "source": [
    "df = pd.read_csv('/egr/research-aidd/menghan1/AnchorDrug/data/CellLineEncode/test_cell_line_expression_features_128_encoded_20240111.csv', index_col=0)\n",
    "df"
   ]
  },
  {
   "cell_type": "code",
   "execution_count": 15,
   "metadata": {},
   "outputs": [],
   "source": [
    "cell_name = df.index\n",
    "cell_map = df.to_numpy()"
   ]
  },
  {
   "cell_type": "code",
   "execution_count": 16,
   "metadata": {},
   "outputs": [
    {
     "data": {
      "text/plain": [
       "Index(['PC3', 'A549', 'MCF7'], dtype='object')"
      ]
     },
     "execution_count": 16,
     "metadata": {},
     "output_type": "execute_result"
    }
   ],
   "source": [
    "cell_name"
   ]
  },
  {
   "cell_type": "code",
   "execution_count": 17,
   "metadata": {},
   "outputs": [
    {
     "data": {
      "text/plain": [
       "(3, 128)"
      ]
     },
     "execution_count": 17,
     "metadata": {},
     "output_type": "execute_result"
    }
   ],
   "source": [
    "cell_map.shape"
   ]
  }
 ],
 "metadata": {
  "kernelspec": {
   "display_name": "Python 3",
   "language": "python",
   "name": "python3"
  },
  "language_info": {
   "codemirror_mode": {
    "name": "ipython",
    "version": 3
   },
   "file_extension": ".py",
   "mimetype": "text/x-python",
   "name": "python",
   "nbconvert_exporter": "python",
   "pygments_lexer": "ipython3",
   "version": "3.9.18"
  }
 },
 "nbformat": 4,
 "nbformat_minor": 2
}
