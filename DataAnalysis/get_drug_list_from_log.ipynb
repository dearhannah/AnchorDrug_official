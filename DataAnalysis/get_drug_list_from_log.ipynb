{
 "cells": [
  {
   "cell_type": "code",
   "execution_count": 2,
   "metadata": {},
   "outputs": [],
   "source": [
    "import os\n",
    "import pickle"
   ]
  },
  {
   "cell_type": "code",
   "execution_count": 19,
   "metadata": {},
   "outputs": [
    {
     "name": "stdout",
     "output_type": "stream",
     "text": [
      "/egr/research-aidd/menghan1/AnchorDrug/ActiveLearning_one_cellline/logfile/new_advbim_ratio/LINCS_MCF7_AdversarialBIM-0.9-0.1-0.0005_10_0_100_20240729_024909_.txt\n",
      "3\n",
      "30\n",
      "2\n",
      "30\n",
      "1\n",
      "30\n",
      "/egr/research-aidd/menghan1/AnchorDrug/ActiveLearning_one_cellline/druglist/new_advbim_ratio_30drug/LINCS_MCF7_AdversarialBIM-0.9-0.1-0.0005_10_0_30_20240729_024909__0.pkl\n",
      "/egr/research-aidd/menghan1/AnchorDrug/ActiveLearning_one_cellline/druglist/new_advbim_ratio_30drug/LINCS_MCF7_AdversarialBIM-0.9-0.1-0.0005_10_0_30_20240729_024909__1.pkl\n",
      "/egr/research-aidd/menghan1/AnchorDrug/ActiveLearning_one_cellline/druglist/new_advbim_ratio_30drug/LINCS_MCF7_AdversarialBIM-0.9-0.1-0.0005_10_0_30_20240729_024909__2.pkl\n",
      "/egr/research-aidd/menghan1/AnchorDrug/ActiveLearning_one_cellline/logfile/new_advbim_ratio/LINCS_A549_AdversarialBIM-0.9-0.1-0.0005_10_0_100_20240729_080755_.txt\n",
      "3\n",
      "30\n",
      "2\n",
      "30\n",
      "1\n",
      "30\n",
      "/egr/research-aidd/menghan1/AnchorDrug/ActiveLearning_one_cellline/druglist/new_advbim_ratio_30drug/LINCS_A549_AdversarialBIM-0.9-0.1-0.0005_10_0_30_20240729_080755__0.pkl\n",
      "/egr/research-aidd/menghan1/AnchorDrug/ActiveLearning_one_cellline/druglist/new_advbim_ratio_30drug/LINCS_A549_AdversarialBIM-0.9-0.1-0.0005_10_0_30_20240729_080755__1.pkl\n",
      "/egr/research-aidd/menghan1/AnchorDrug/ActiveLearning_one_cellline/druglist/new_advbim_ratio_30drug/LINCS_A549_AdversarialBIM-0.9-0.1-0.0005_10_0_30_20240729_080755__2.pkl\n",
      "/egr/research-aidd/menghan1/AnchorDrug/ActiveLearning_one_cellline/logfile/new_advbim_ratio/LINCS_PC3_AdversarialBIM-0.9-0.1-0.0005_10_0_100_20240729_052218_.txt\n",
      "3\n",
      "30\n",
      "2\n",
      "30\n",
      "1\n",
      "30\n",
      "/egr/research-aidd/menghan1/AnchorDrug/ActiveLearning_one_cellline/druglist/new_advbim_ratio_30drug/LINCS_PC3_AdversarialBIM-0.9-0.1-0.0005_10_0_30_20240729_052218__0.pkl\n",
      "/egr/research-aidd/menghan1/AnchorDrug/ActiveLearning_one_cellline/druglist/new_advbim_ratio_30drug/LINCS_PC3_AdversarialBIM-0.9-0.1-0.0005_10_0_30_20240729_052218__1.pkl\n",
      "/egr/research-aidd/menghan1/AnchorDrug/ActiveLearning_one_cellline/druglist/new_advbim_ratio_30drug/LINCS_PC3_AdversarialBIM-0.9-0.1-0.0005_10_0_30_20240729_052218__2.pkl\n"
     ]
    }
   ],
   "source": [
    "def metrics_from_txt(fname):\n",
    "    paragraph = []\n",
    "    with open(fname) as f:\n",
    "        data = f.readlines()\n",
    "    drugs = {}\n",
    "    for i in range(len(data)):\n",
    "        sentence = data[i]\n",
    "        if '-----iteration:' in sentence:\n",
    "            iteration = sentence[:-1].split(':')[1].replace('-',' ')\n",
    "            iteration = int(iteration)\n",
    "            drugs[iteration] = []\n",
    "        elif sentence.startswith('update drugs'):\n",
    "            drugs[iteration] += [data[i+n+2][:-1] for n in range(10)]\n",
    "    for i in drugs:\n",
    "        print(i)\n",
    "        drugs[i] = drugs[i][:30]\n",
    "        print(len(drugs[i]))\n",
    "    return drugs\n",
    "\n",
    "\n",
    "# data_dir = '/egr/research-aidd/menghan1/AnchorDrug/ActiveLearning_one_cellline/logfile/batch32_epoch20_imbalance'\n",
    "data_dir = '/egr/research-aidd/menghan1/AnchorDrug/ActiveLearning_one_cellline/logfile/new_advbim_ratio'\n",
    "# data_dir = '/egr/research-aidd/menghan1/AnchorDrug/ActiveLearning/logfile/batch32_epoch20_imbalance'\n",
    "files = [f for f in os.listdir(data_dir) if 'AdversarialBIM-0.9-0.1-0.0005' in f]\n",
    "repeat_num = 3\n",
    "\n",
    "out_dir = data_dir.replace('logfile', 'druglist')+'_30drug'\n",
    "if not os.path.exists(out_dir):\n",
    "    os.system('mkdir -p %s' % out_dir)\n",
    "\n",
    "for file in files:\n",
    "    print(f'{data_dir}/{file}')\n",
    "    drugs = metrics_from_txt(f'{data_dir}/{file}')\n",
    "    # print(drugs[1])\n",
    "    outf = file.replace('_100_', '_30_')\n",
    "    outf = outf.replace('.txt', '')\n",
    "    for i in range(repeat_num):\n",
    "        print(f'{out_dir}/{outf}_{str(i)}.pkl')\n",
    "        with open(f'{out_dir}/{outf}_{str(i)}.pkl', 'wb') as f:\n",
    "            pickle.dump(drugs[i+1], f)\n"
   ]
  }
 ],
 "metadata": {
  "kernelspec": {
   "display_name": "Python 3",
   "language": "python",
   "name": "python3"
  },
  "language_info": {
   "codemirror_mode": {
    "name": "ipython",
    "version": 3
   },
   "file_extension": ".py",
   "mimetype": "text/x-python",
   "name": "python",
   "nbconvert_exporter": "python",
   "pygments_lexer": "ipython3",
   "version": "3.9.18"
  }
 },
 "nbformat": 4,
 "nbformat_minor": 2
}
