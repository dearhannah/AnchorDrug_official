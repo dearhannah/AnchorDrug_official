{
 "cells": [
  {
   "cell_type": "code",
   "execution_count": 1,
   "metadata": {},
   "outputs": [],
   "source": [
    "import os\n",
    "import pickle"
   ]
  },
  {
   "cell_type": "code",
   "execution_count": 32,
   "metadata": {},
   "outputs": [
    {
     "name": "stdout",
     "output_type": "stream",
     "text": [
      "/egr/research-aidd/menghan1/AnchorDrug/ActiveLearning/logfile/batch32_epoch20_imbalance/LINCS_BadgeSampling_10_0_100_20240710_022740_.txt\n",
      "30\n",
      "30\n",
      "30\n",
      "/egr/research-aidd/menghan1/AnchorDrug/ActiveLearning/druglist/batch32_epoch20_imbalance_30drug/LINCS_BadgeSampling_10_0_30_20240710_022740__0.pkl\n",
      "/egr/research-aidd/menghan1/AnchorDrug/ActiveLearning/druglist/batch32_epoch20_imbalance_30drug/LINCS_BadgeSampling_10_0_30_20240710_022740__1.pkl\n",
      "/egr/research-aidd/menghan1/AnchorDrug/ActiveLearning/druglist/batch32_epoch20_imbalance_30drug/LINCS_BadgeSampling_10_0_30_20240710_022740__2.pkl\n",
      "/egr/research-aidd/menghan1/AnchorDrug/ActiveLearning/logfile/batch32_epoch20_imbalance/LINCS_MarginSampling_10_0_100_20240710_012649_.txt\n",
      "30\n",
      "30\n",
      "30\n",
      "/egr/research-aidd/menghan1/AnchorDrug/ActiveLearning/druglist/batch32_epoch20_imbalance_30drug/LINCS_MarginSampling_10_0_30_20240710_012649__0.pkl\n",
      "/egr/research-aidd/menghan1/AnchorDrug/ActiveLearning/druglist/batch32_epoch20_imbalance_30drug/LINCS_MarginSampling_10_0_30_20240710_012649__1.pkl\n",
      "/egr/research-aidd/menghan1/AnchorDrug/ActiveLearning/druglist/batch32_epoch20_imbalance_30drug/LINCS_MarginSampling_10_0_30_20240710_012649__2.pkl\n",
      "/egr/research-aidd/menghan1/AnchorDrug/ActiveLearning/logfile/batch32_epoch20_imbalance/LINCS_KMeansSampling_10_0_100_20240710_012346_.txt\n",
      "30\n",
      "30\n",
      "30\n",
      "/egr/research-aidd/menghan1/AnchorDrug/ActiveLearning/druglist/batch32_epoch20_imbalance_30drug/LINCS_KMeansSampling_10_0_30_20240710_012346__0.pkl\n",
      "/egr/research-aidd/menghan1/AnchorDrug/ActiveLearning/druglist/batch32_epoch20_imbalance_30drug/LINCS_KMeansSampling_10_0_30_20240710_012346__1.pkl\n",
      "/egr/research-aidd/menghan1/AnchorDrug/ActiveLearning/druglist/batch32_epoch20_imbalance_30drug/LINCS_KMeansSampling_10_0_30_20240710_012346__2.pkl\n",
      "/egr/research-aidd/menghan1/AnchorDrug/ActiveLearning/logfile/batch32_epoch20_imbalance/LINCS_BALDDropout_10_0_100_20240710_042252_.txt\n",
      "30\n",
      "30\n",
      "30\n",
      "/egr/research-aidd/menghan1/AnchorDrug/ActiveLearning/druglist/batch32_epoch20_imbalance_30drug/LINCS_BALDDropout_10_0_30_20240710_042252__0.pkl\n",
      "/egr/research-aidd/menghan1/AnchorDrug/ActiveLearning/druglist/batch32_epoch20_imbalance_30drug/LINCS_BALDDropout_10_0_30_20240710_042252__1.pkl\n",
      "/egr/research-aidd/menghan1/AnchorDrug/ActiveLearning/druglist/batch32_epoch20_imbalance_30drug/LINCS_BALDDropout_10_0_30_20240710_042252__2.pkl\n",
      "/egr/research-aidd/menghan1/AnchorDrug/ActiveLearning/logfile/batch32_epoch20_imbalance/LINCS_LeastConfidence_10_0_100_20240710_002750_.txt\n",
      "30\n",
      "30\n",
      "30\n",
      "/egr/research-aidd/menghan1/AnchorDrug/ActiveLearning/druglist/batch32_epoch20_imbalance_30drug/LINCS_LeastConfidence_10_0_30_20240710_002750__0.pkl\n",
      "/egr/research-aidd/menghan1/AnchorDrug/ActiveLearning/druglist/batch32_epoch20_imbalance_30drug/LINCS_LeastConfidence_10_0_30_20240710_002750__1.pkl\n",
      "/egr/research-aidd/menghan1/AnchorDrug/ActiveLearning/druglist/batch32_epoch20_imbalance_30drug/LINCS_LeastConfidence_10_0_30_20240710_002750__2.pkl\n",
      "/egr/research-aidd/menghan1/AnchorDrug/ActiveLearning/logfile/batch32_epoch20_imbalance/LINCS_KCenterGreedy_10_0_100_20240710_022757_.txt\n",
      "30\n",
      "30\n",
      "30\n",
      "/egr/research-aidd/menghan1/AnchorDrug/ActiveLearning/druglist/batch32_epoch20_imbalance_30drug/LINCS_KCenterGreedy_10_0_30_20240710_022757__0.pkl\n",
      "/egr/research-aidd/menghan1/AnchorDrug/ActiveLearning/druglist/batch32_epoch20_imbalance_30drug/LINCS_KCenterGreedy_10_0_30_20240710_022757__1.pkl\n",
      "/egr/research-aidd/menghan1/AnchorDrug/ActiveLearning/druglist/batch32_epoch20_imbalance_30drug/LINCS_KCenterGreedy_10_0_30_20240710_022757__2.pkl\n",
      "/egr/research-aidd/menghan1/AnchorDrug/ActiveLearning/logfile/batch32_epoch20_imbalance/LINCS_RandomSampling_10_0_100_20240710_002750_.txt\n",
      "30\n",
      "30\n",
      "30\n",
      "/egr/research-aidd/menghan1/AnchorDrug/ActiveLearning/druglist/batch32_epoch20_imbalance_30drug/LINCS_RandomSampling_10_0_30_20240710_002750__0.pkl\n",
      "/egr/research-aidd/menghan1/AnchorDrug/ActiveLearning/druglist/batch32_epoch20_imbalance_30drug/LINCS_RandomSampling_10_0_30_20240710_002750__1.pkl\n",
      "/egr/research-aidd/menghan1/AnchorDrug/ActiveLearning/druglist/batch32_epoch20_imbalance_30drug/LINCS_RandomSampling_10_0_30_20240710_002750__2.pkl\n"
     ]
    }
   ],
   "source": [
    "def metrics_from_txt(fname):\n",
    "    paragraph = []\n",
    "    with open(fname) as f:\n",
    "        data = f.readlines()\n",
    "    drugs = {}\n",
    "    for i in range(len(data)):\n",
    "        sentence = data[i]\n",
    "        if 'iteration:' in sentence:\n",
    "            iteration = sentence[:-1].split(':')[1].replace('-',' ')\n",
    "            iteration = int(iteration)\n",
    "            drugs[iteration] = []\n",
    "        elif sentence.startswith('update drugs'):\n",
    "            drugs[iteration] += [data[i+n+2][:-1] for n in range(10)]\n",
    "    for i in drugs:\n",
    "        # print(i)\n",
    "        drugs[i] = drugs[i][:30]\n",
    "        print(len(drugs[i]))\n",
    "    return drugs\n",
    "\n",
    "\n",
    "# data_dir = '/egr/research-aidd/menghan1/AnchorDrug/ActiveLearning_one_cellline/logfile/batch32_epoch20_imbalance'\n",
    "data_dir = '/egr/research-aidd/menghan1/AnchorDrug/ActiveLearning/logfile/batch32_epoch20_imbalance'\n",
    "files = os.listdir(data_dir)\n",
    "repeat_num = 3\n",
    "\n",
    "out_dir = data_dir.replace('logfile', 'druglist')+'_30drug'\n",
    "if not os.path.exists(out_dir):\n",
    "    os.system('mkdir -p %s' % out_dir)\n",
    "\n",
    "for file in files:\n",
    "    print(f'{data_dir}/{file}')\n",
    "    drugs = metrics_from_txt(f'{data_dir}/{file}')\n",
    "    outf = file.replace('_100_', '_30_')\n",
    "    outf = outf.replace('.txt', '')\n",
    "    for i in range(repeat_num):\n",
    "        print(f'{out_dir}/{outf}_{str(i)}.pkl')\n",
    "        with open(f'{out_dir}/{outf}_{str(i)}.pkl', 'wb') as f:\n",
    "            pickle.dump(drugs[i+1], f)\n"
   ]
  }
 ],
 "metadata": {
  "kernelspec": {
   "display_name": "Python 3",
   "language": "python",
   "name": "python3"
  },
  "language_info": {
   "codemirror_mode": {
    "name": "ipython",
    "version": 3
   },
   "file_extension": ".py",
   "mimetype": "text/x-python",
   "name": "python",
   "nbconvert_exporter": "python",
   "pygments_lexer": "ipython3",
   "version": "3.9.18"
  }
 },
 "nbformat": 4,
 "nbformat_minor": 2
}
