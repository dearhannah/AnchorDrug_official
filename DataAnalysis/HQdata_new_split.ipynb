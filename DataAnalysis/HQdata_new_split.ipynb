{
 "cells": [
  {
   "cell_type": "code",
   "execution_count": 1,
   "metadata": {},
   "outputs": [],
   "source": [
    "import pandas as pd\n",
    "# import numpy as np\n",
    "# import random\n",
    "# from tqdm import tqdm"
   ]
  },
  {
   "cell_type": "code",
   "execution_count": 2,
   "metadata": {},
   "outputs": [
    {
     "name": "stdout",
     "output_type": "stream",
     "text": [
      "117\n",
      "6645\n"
     ]
    }
   ],
   "source": [
    "df_data = pd.read_csv('/egr/research-aidd/menghan1/AnchorDrug/data/level5_beta_trt_cp_24h_10uM.csv')\n",
    "CellLines = df_data.value_counts('cell_iname').index.to_list()\n",
    "print(len(CellLines))\n",
    "print(len(list(set(df_data['SMILES'].to_list()))))\n",
    "# df_data.value_counts('cell_iname')[:10].plot.bar(rot=30)"
   ]
  },
  {
   "cell_type": "markdown",
   "metadata": {},
   "source": [
    "# pretrain data"
   ]
  },
  {
   "cell_type": "code",
   "execution_count": 3,
   "metadata": {},
   "outputs": [
    {
     "name": "stdout",
     "output_type": "stream",
     "text": [
      "2820\n",
      "100\n"
     ]
    }
   ],
   "source": [
    "# cellline_map = pd.read_csv('/egr/research-aidd/menghan1/AnchorDrug/data/CellLineEncode/use_training_cell_line_expression_features_128_encoded_20240111.csv')\n",
    "# cell_list = cellline_map['Unnamed: 0'].to_list()\n",
    "# df_res = df_data[df_data['cell_iname'].isin(cell_list)] #17624 rows x 982 columns\n",
    "HQ_id_file = '/egr/research-aidd/menghan1/AnchorDrug/data/revise_use_LINCS_HQ_data_pretrain_sample_id.csv'\n",
    "use_HQ_sample_id = pd.read_csv(HQ_id_file)['x']\n",
    "df_res = df_data[df_data['sig_id'].isin(use_HQ_sample_id)]\n",
    "ResDrugs = df_res.drop_duplicates(subset=['SMILES'])['SMILES'].to_list()\n",
    "print(len(ResDrugs))\n",
    "print(len(list(set(df_res.cell_iname.to_list()))))\n",
    "# df_res.to_csv(f'/egr/research-aidd/menghan1/AnchorDrug/data/HQPretrainData/resourceCelllines.csv')\n",
    "# print(cell_list)\n",
    "# df_res"
   ]
  },
  {
   "cell_type": "markdown",
   "metadata": {},
   "source": [
    "# finetune/test data"
   ]
  },
  {
   "cell_type": "code",
   "execution_count": 4,
   "metadata": {},
   "outputs": [
    {
     "name": "stdout",
     "output_type": "stream",
     "text": [
      "MCF7\n",
      "(810, 307)\n",
      "(134, 307)\n",
      "PC3\n",
      "(957, 307)\n",
      "(141, 307)\n",
      "A549\n",
      "(642, 307)\n",
      "(94, 307)\n"
     ]
    }
   ],
   "source": [
    "tmp = pd.read_csv('/egr/research-aidd/menghan1/AnchorDrug/HQ_LINCS_retrain/GPS_predictable_genes.csv')\n",
    "genelist = tmp.x.to_list()\n",
    "\n",
    "cell_list = ['MCF7', 'PC3', 'A549']\n",
    "\n",
    "for cell in cell_list:\n",
    "    print(cell)\n",
    "    HQ_id_file = f'/egr/research-aidd/menghan1/AnchorDrug/data/revise_use_LINCS_HQ_data_target_cellline_{cell}_sample_id.csv'\n",
    "    use_HQ_sample_id = pd.read_csv(HQ_id_file)['x']\n",
    "    df_target = df_data[df_data['sig_id'].isin(use_HQ_sample_id)]\n",
    "    median = df_target[['SMILES']+genelist].groupby(by='SMILES').median()\n",
    "    df_target = median\n",
    "\n",
    "    # load cellline_specific_drug_pool\n",
    "    tmp = pd.read_csv(f'/egr/research-aidd/menghan1/AnchorDrug/data/cellline_specific_drug_pool_{cell}.csv')\n",
    "    trainDrugs = tmp['0'].to_list()\n",
    "\n",
    "    tmp = pd.read_csv(f'/egr/research-aidd/menghan1/AnchorDrug/data/{cell}_internal_val2_data.csv')\n",
    "    valDrugs = tmp.SMILES.to_list()\n",
    "\n",
    "    df_train = df_target.loc[trainDrugs]\n",
    "    print(df_train.shape)\n",
    "    df_val = df_target.loc[valDrugs]\n",
    "    print(df_val.shape)\n",
    "    # print(df_val)\n",
    "    \n",
    "    for g in genelist:\n",
    "        df_train[g] = df_train[g].apply(lambda x: (x > 1.5) * 1 + (x >= -1.5) * 1)\n",
    "        df_val[g] = df_val[g].apply(lambda x: (x > 1.5) * 1 + (x >= -1.5) * 1)\n",
    "    # df_train.to_csv(f'/egr/research-aidd/menghan1/AnchorDrug/data/HQdata/{cell}_train.csv')\n",
    "    # df_val.to_csv(f'/egr/research-aidd/menghan1/AnchorDrug/data/HQdata/{cell}_test.csv')"
   ]
  }
 ],
 "metadata": {
  "kernelspec": {
   "display_name": "Python 3",
   "language": "python",
   "name": "python3"
  },
  "language_info": {
   "codemirror_mode": {
    "name": "ipython",
    "version": 3
   },
   "file_extension": ".py",
   "mimetype": "text/x-python",
   "name": "python",
   "nbconvert_exporter": "python",
   "pygments_lexer": "ipython3",
   "version": "3.9.18"
  }
 },
 "nbformat": 4,
 "nbformat_minor": 2
}
