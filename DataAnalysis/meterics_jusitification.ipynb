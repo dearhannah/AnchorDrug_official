{
 "cells": [
  {
   "cell_type": "code",
   "execution_count": null,
   "metadata": {},
   "outputs": [],
   "source": [
    "import pickle, os\n",
    "import numpy as np\n",
    "import pandas as pd\n",
    "import matplotlib.pyplot as plt\n",
    "from collections import Counter\n",
    "\n",
    "def count_unique_values(input_list):\n",
    "    counter = Counter(input_list)\n",
    "    for value, count in counter.items():\n",
    "        print(f'Value: {value}, Count: {count}')"
   ]
  },
  {
   "cell_type": "code",
   "execution_count": null,
   "metadata": {},
   "outputs": [],
   "source": [
    "file_dir = '/egr/research-aidd/menghan1/AnchorDrug/resultBaseLine/'\n",
    "file_list = os.listdir(file_dir)\n",
    "file_list = [f for f in file_list if f.endswith('.pkl')]\n",
    "print(file_list)\n",
    "file_list_pretrainonly = [f for f in file_list if 'pretrainOnly' in f]\n",
    "for file in file_list_pretrainonly:\n",
    "    with open(f'{file_dir}{file}', 'rb') as f:\n",
    "        ResultPKG = pickle.load(f)\n",
    "    # print(ResultPKG)\n",
    "    print(file)\n",
    "    label = ResultPKG[0][3]\n",
    "    pred = ResultPKG[0][4]\n",
    "    labels_flatten = [item for sublist in label for item in sublist]\n",
    "    preds_flatten = [item for sublist in pred for item in sublist]\n",
    "    print('labels')\n",
    "    count_unique_values(labels_flatten)\n",
    "    print('preds')\n",
    "    count_unique_values(preds_flatten)"
   ]
  },
  {
   "cell_type": "markdown",
   "metadata": {},
   "source": [
    "# PC3"
   ]
  },
  {
   "cell_type": "code",
   "execution_count": null,
   "metadata": {},
   "outputs": [],
   "source": [
    "round_num = 32\n",
    "exp_name = 'LINCS_PC3_RandomSampling_30_0_957_20240613_234306'\n",
    "font = 14\n",
    "print(exp_name)\n",
    "fig, ax = plt.subplots(1,3, figsize=(15,5))\n",
    "x = [x*30+30 for x in range(round_num-1)]\n",
    "number = {i:[0 for x in range(round_num-1)] for i in [0,1,2]}\n",
    "# print(number)\n",
    "for n in [0,1,2,3,4]:\n",
    "    pred_data = f'/egr/research-aidd/menghan1/AnchorDrug/ActiveLearning_one_cellline/preds/{exp_name}__{n}.csv'\n",
    "    data = pd.read_csv(pred_data).T.to_numpy()\n",
    "    # print(data.shape)\n",
    "    number[0] = [number[0][i-2] + np.sum(data[i]==0)/5 for i in range(2, round_num+1)]\n",
    "    # print(len(number[0]))\n",
    "    number[1] = [number[1][i-2] + np.sum(data[i]==1)/5 for i in range(2, round_num+1)]\n",
    "    number[2] = [number[2][i-2] + np.sum(data[i]==2)/5 for i in range(2, round_num+1)]\n",
    "    \n",
    "[ax[i].plot(x, number[i], label=f'label{i}') for i in [0,1,2]]\n",
    "    \n",
    "[ax[i].set_ylabel(f'Counts-label {i}', size=font) for i in [0,1,2]]\n",
    "ax[0].set_xlabel('Number of Finetunning Samples', size=font)\n",
    "ax[1].set_xlabel('Number of Finetunning Samples', size=font)\n",
    "ax[2].set_xlabel('Number of Finetunning Samples', size=font)\n",
    "# plt.legend(bbox_to_anchor=(1.0, 0.6)) \n",
    "fig.tight_layout()  # otherwise the right y-label is slightly clipped\n",
    "plt.show()"
   ]
  },
  {
   "cell_type": "markdown",
   "metadata": {},
   "source": [
    "# MCF3"
   ]
  },
  {
   "cell_type": "code",
   "execution_count": null,
   "metadata": {},
   "outputs": [],
   "source": [
    "round_num = 27\n",
    "exp_name = 'LINCS_MCF7_RandomSampling_30_0_810_20240613_234253'\n",
    "font = 14\n",
    "print(exp_name)\n",
    "fig, ax = plt.subplots(1,3, figsize=(15,5))\n",
    "x = [x*30+30 for x in range(round_num-1)]\n",
    "number = {i:[0 for x in range(round_num-1)] for i in [0,1,2]}\n",
    "# print(number)\n",
    "for n in [0,1,2,3,4]:\n",
    "    pred_data = f'/egr/research-aidd/menghan1/AnchorDrug/ActiveLearning_one_cellline/preds/{exp_name}__{n}.csv'\n",
    "    data = pd.read_csv(pred_data).T.to_numpy()\n",
    "    # print(data.shape)\n",
    "    number[0] = [number[0][i-2] + np.sum(data[i]==0)/5 for i in range(2, round_num+1)]\n",
    "    # print(len(number[0]))\n",
    "    number[1] = [number[1][i-2] + np.sum(data[i]==1)/5 for i in range(2, round_num+1)]\n",
    "    number[2] = [number[2][i-2] + np.sum(data[i]==2)/5 for i in range(2, round_num+1)]\n",
    "    \n",
    "[ax[i].plot(x, number[i], label=f'label{i}') for i in [0,1,2]]\n",
    "    \n",
    "[ax[i].set_ylabel(f'Counts-label {i}', size=font) for i in [0,1,2]]\n",
    "ax[0].set_xlabel('Number of Finetunning Samples', size=font)\n",
    "ax[1].set_xlabel('Number of Finetunning Samples', size=font)\n",
    "ax[2].set_xlabel('Number of Finetunning Samples', size=font)\n",
    "# plt.legend(bbox_to_anchor=(1.0, 0.6)) \n",
    "fig.tight_layout()  # otherwise the right y-label is slightly clipped\n",
    "plt.show()"
   ]
  },
  {
   "cell_type": "markdown",
   "metadata": {},
   "source": [
    "# A549"
   ]
  },
  {
   "cell_type": "code",
   "execution_count": null,
   "metadata": {},
   "outputs": [],
   "source": [
    "round_num = 22\n",
    "exp_name = 'LINCS_A549_RandomSampling_30_0_642_20240613_234358'\n",
    "font = 14\n",
    "print(exp_name)\n",
    "fig, ax = plt.subplots(1,3, figsize=(15,5))\n",
    "x = [x*30+30 for x in range(round_num-1)]\n",
    "number = {i:[0 for x in range(round_num-1)] for i in [0,1,2]}\n",
    "# print(number)\n",
    "for n in [0,1,2,3,4]:\n",
    "    pred_data = f'/egr/research-aidd/menghan1/AnchorDrug/ActiveLearning_one_cellline/preds/{exp_name}__{n}.csv'\n",
    "    data = pd.read_csv(pred_data).T.to_numpy()\n",
    "    # print(data.shape)\n",
    "    number[0] = [number[0][i-2] + np.sum(data[i]==0)/5 for i in range(2, round_num+1)]\n",
    "    # print(len(number[0]))\n",
    "    number[1] = [number[1][i-2] + np.sum(data[i]==1)/5 for i in range(2, round_num+1)]\n",
    "    number[2] = [number[2][i-2] + np.sum(data[i]==2)/5 for i in range(2, round_num+1)]\n",
    "    \n",
    "[ax[i].plot(x, number[i], label=f'label{i}') for i in [0,1,2]]\n",
    "    \n",
    "[ax[i].set_ylabel(f'Counts-label {i}', size=font) for i in [0,1,2]]\n",
    "ax[0].set_xlabel('Number of Finetunning Samples', size=font)\n",
    "ax[1].set_xlabel('Number of Finetunning Samples', size=font)\n",
    "ax[2].set_xlabel('Number of Finetunning Samples', size=font)\n",
    "# plt.legend(bbox_to_anchor=(1.0, 0.6)) \n",
    "fig.tight_layout()  # otherwise the right y-label is slightly clipped\n",
    "plt.show()"
   ]
  },
  {
   "cell_type": "code",
   "execution_count": null,
   "metadata": {},
   "outputs": [],
   "source": [
    "for c in ['A549', 'MCF7', 'PC3']:\n",
    "    print(c)\n",
    "    df_train = pd.read_csv(f'/egr/research-aidd/menghan1/AnchorDrug/data/HQdata/{c}_train.csv', index_col=0)\n",
    "    array_train =df_train.to_numpy()\n",
    "    counts_train = [np.sum(array_train==i) for i in [0,1,2]]\n",
    "    total_train = np.sum(counts_train)\n",
    "    # print('train:', array_train.shape, total_train, array_train.shape[0]*array_train.shape[1])\n",
    "    [print(f'label{i}:', counts_train[i]/total_train, np.sum(array_train==i)) for i in [0,1,2]]\n",
    "    \n",
    "    # print(df_test)\n",
    "    # unique, counts = np.unique(array_test, return_counts=True)\n",
    "    # print(unique, counts)\n",
    "    df_test = pd.read_csv(f'/egr/research-aidd/menghan1/AnchorDrug/data/HQdata/{c}_test.csv', index_col=0)\n",
    "    array_test =df_test.to_numpy()\n",
    "    counts_test = [np.sum(array_test==i) for i in [0,1,2]]\n",
    "    total_test = np.sum(counts_test)\n",
    "    print('test:', array_test.shape, total_test, array_test.shape[0]*array_test.shape[1])\n",
    "    [print(f'label{i}:', counts_test[i]/total_test, np.sum(array_test==i)) for i in [0,1,2]]\n",
    "    \n",
    "    counts = [counts_train[i]+counts_test[i] for i in [0,1,2]]\n",
    "    total = np.sum(counts)\n",
    "    print('-------------overall:-------------')\n",
    "    [print(f'label{i}:', counts[i]/total, counts[i]) for i in [0,1,2]]"
   ]
  }
 ],
 "metadata": {
  "kernelspec": {
   "display_name": "Python 3",
   "language": "python",
   "name": "python3"
  },
  "language_info": {
   "codemirror_mode": {
    "name": "ipython",
    "version": 3
   },
   "file_extension": ".py",
   "mimetype": "text/x-python",
   "name": "python",
   "nbconvert_exporter": "python",
   "pygments_lexer": "ipython3",
   "version": "3.9.18"
  }
 },
 "nbformat": 4,
 "nbformat_minor": 2
}
