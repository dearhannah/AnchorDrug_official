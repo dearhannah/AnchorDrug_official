{
 "cells": [
  {
   "cell_type": "code",
   "execution_count": 10,
   "metadata": {},
   "outputs": [],
   "source": [
    "from __future__ import print_function\n",
    "import random, pickle\n",
    "import pandas as pd\n",
    "import numpy as np\n",
    "from tqdm import tqdm\n",
    "import torch.utils.data as data\n",
    "from scipy.stats import pearsonr\n",
    "from rdkit import Chem, DataStructs\n",
    "from rdkit.Chem import AllChem"
   ]
  },
  {
   "cell_type": "markdown",
   "metadata": {},
   "source": [
    "# Dependencies"
   ]
  },
  {
   "cell_type": "code",
   "execution_count": 17,
   "metadata": {},
   "outputs": [],
   "source": [
    "fn = '/localscratch2/han/AnchorDrug/data/drug_fingerprints-1024.csv'\n",
    "fp_map = pd.read_csv(fn, header=None, index_col=0)\n",
    "fp_name = fp_map.index\n",
    "fp_map = fp_map.to_numpy()\n",
    "\n",
    "def get_morgan_fingerprint(mol, radius, nBits, FCFP=False):\n",
    "    m = Chem.MolFromSmiles(mol)\n",
    "    fp = AllChem.GetMorganFingerprintAsBitVect(m, radius=radius, nBits=nBits, useFeatures=FCFP)\n",
    "    fp_bits = fp.ToBitString()\n",
    "    finger_print = np.fromstring(fp_bits, 'u1') - ord('0')\n",
    "    return finger_print\n",
    "\n",
    "def get_drug_fp_batch(smile):\n",
    "        fp_features = []\n",
    "        for s in smile:\n",
    "            # print(s)\n",
    "            try:\n",
    "                idx = np.where(fp_name == s)[0][0]\n",
    "                fp_features.append(fp_map[idx])\n",
    "            except:\n",
    "                print(s)\n",
    "                fp_features.append(get_morgan_fingerprint(s, 3, 1024, FCFP=False))\n",
    "        fp_features = np.array(fp_features)\n",
    "        # print(fp_features.shape)\n",
    "        return fp_features\n",
    "\n",
    "def get_drug_rdkfp_batch(smile):\n",
    "    rdkfp = []\n",
    "    for s in tqdm(smile):\n",
    "        ref = Chem.MolFromSmiles(s)\n",
    "        rdkfp.append(Chem.RDKFingerprint(ref))\n",
    "    rdkfp = np.array(rdkfp)\n",
    "    return rdkfp"
   ]
  },
  {
   "cell_type": "markdown",
   "metadata": {},
   "source": [
    "# Load data"
   ]
  },
  {
   "cell_type": "code",
   "execution_count": 12,
   "metadata": {},
   "outputs": [],
   "source": [
    "cell_list = ['ASC', 'NPC', 'HCC515', 'HT29', 'A375', 'HA1E', 'VCAP', 'A549', 'PC3', 'MCF7']\n",
    "df_data = pd.read_csv('/localscratch2/han/AnchorDrug/data/level5_beta_trt_cp_24h_10uM.csv')\n",
    "df_data = df_data[df_data['cell_iname'].isin(cell_list)]\n",
    "gene_list = df_data.columns.to_list()[4:]\n",
    "data_dict = {}"
   ]
  },
  {
   "cell_type": "code",
   "execution_count": 16,
   "metadata": {},
   "outputs": [
    {
     "name": "stdout",
     "output_type": "stream",
     "text": [
      "ASC\n"
     ]
    },
    {
     "name": "stderr",
     "output_type": "stream",
     "text": [
      "100%|██████████| 1021/1021 [00:01<00:00, 687.92it/s]\n"
     ]
    },
    {
     "name": "stdout",
     "output_type": "stream",
     "text": [
      "(1021, 1024) (1021, 2048) (1021, 978)\n",
      "NPC\n"
     ]
    },
    {
     "name": "stderr",
     "output_type": "stream",
     "text": [
      "100%|██████████| 1234/1234 [00:01<00:00, 1064.92it/s]\n"
     ]
    },
    {
     "name": "stdout",
     "output_type": "stream",
     "text": [
      "(1234, 1024) (1234, 2048) (1234, 978)\n",
      "HCC515\n"
     ]
    },
    {
     "name": "stderr",
     "output_type": "stream",
     "text": [
      "100%|██████████| 1377/1377 [00:01<00:00, 996.53it/s] \n"
     ]
    },
    {
     "name": "stdout",
     "output_type": "stream",
     "text": [
      "(1377, 1024) (1377, 2048) (1377, 978)\n",
      "HT29\n"
     ]
    },
    {
     "name": "stderr",
     "output_type": "stream",
     "text": [
      "100%|██████████| 1424/1424 [00:01<00:00, 989.96it/s] \n"
     ]
    },
    {
     "name": "stdout",
     "output_type": "stream",
     "text": [
      "(1424, 1024) (1424, 2048) (1424, 978)\n",
      "A375\n"
     ]
    },
    {
     "name": "stderr",
     "output_type": "stream",
     "text": [
      "100%|██████████| 2035/2035 [00:01<00:00, 1017.52it/s]\n"
     ]
    },
    {
     "name": "stdout",
     "output_type": "stream",
     "text": [
      "(2035, 1024) (2035, 2048) (2035, 978)\n",
      "HA1E\n"
     ]
    },
    {
     "name": "stderr",
     "output_type": "stream",
     "text": [
      "100%|██████████| 2132/2132 [00:02<00:00, 974.07it/s] \n"
     ]
    },
    {
     "name": "stdout",
     "output_type": "stream",
     "text": [
      "(2132, 1024) (2132, 2048) (2132, 978)\n",
      "VCAP\n"
     ]
    },
    {
     "name": "stderr",
     "output_type": "stream",
     "text": [
      "100%|██████████| 2181/2181 [00:02<00:00, 999.82it/s] \n"
     ]
    },
    {
     "name": "stdout",
     "output_type": "stream",
     "text": [
      "(2181, 1024) (2181, 2048) (2181, 978)\n",
      "A549\n"
     ]
    },
    {
     "name": "stderr",
     "output_type": "stream",
     "text": [
      "100%|██████████| 2573/2573 [00:02<00:00, 942.73it/s] \n"
     ]
    },
    {
     "name": "stdout",
     "output_type": "stream",
     "text": [
      "(2573, 1024) (2573, 2048) (2573, 978)\n",
      "PC3\n"
     ]
    },
    {
     "name": "stderr",
     "output_type": "stream",
     "text": [
      "100%|██████████| 3060/3060 [00:03<00:00, 951.95it/s] \n"
     ]
    },
    {
     "name": "stdout",
     "output_type": "stream",
     "text": [
      "(3060, 1024) (3060, 2048) (3060, 978)\n",
      "MCF7\n"
     ]
    },
    {
     "name": "stderr",
     "output_type": "stream",
     "text": [
      "100%|██████████| 3254/3254 [00:03<00:00, 981.22it/s] \n"
     ]
    },
    {
     "name": "stdout",
     "output_type": "stream",
     "text": [
      "(3254, 1024) (3254, 2048) (3254, 978)\n"
     ]
    }
   ],
   "source": [
    "for cell in cell_list:\n",
    "    print(cell)\n",
    "    df_finetune = df_data[df_data['cell_iname'] == cell]\n",
    "    df_finetune = df_finetune.groupby(by='SMILES').median(numeric_only = True).reset_index()\n",
    "    drug_smiles = df_finetune['SMILES'].to_list()\n",
    "    drug_ecfps = get_drug_fp_batch(drug_smiles)\n",
    "    drug_rdkfps = get_drug_rdkfp_batch(drug_smiles)\n",
    "    labels = df_finetune[gene_list].to_numpy()\n",
    "    print(drug_ecfps.shape, drug_rdkfps.shape, labels.shape)\n",
    "    data_dict[cell] = {\n",
    "        'ecfp':drug_ecfps,\n",
    "        'rdkfp':drug_rdkfps,\n",
    "        'label':labels\n",
    "        }"
   ]
  },
  {
   "cell_type": "code",
   "execution_count": null,
   "metadata": {},
   "outputs": [],
   "source": [
    "for cell in cell_list:\n",
    "    data = data_dict[cell]\n",
    "    ecfp, rdkfp, label = data[]"
   ]
  }
 ],
 "metadata": {
  "kernelspec": {
   "display_name": "Python 3",
   "language": "python",
   "name": "python3"
  },
  "language_info": {
   "codemirror_mode": {
    "name": "ipython",
    "version": 3
   },
   "file_extension": ".py",
   "mimetype": "text/x-python",
   "name": "python",
   "nbconvert_exporter": "python",
   "pygments_lexer": "ipython3",
   "version": "3.9.13"
  }
 },
 "nbformat": 4,
 "nbformat_minor": 2
}
