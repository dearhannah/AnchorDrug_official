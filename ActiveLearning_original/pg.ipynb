{
 "cells": [
  {
   "cell_type": "code",
   "execution_count": 1,
   "metadata": {},
   "outputs": [
    {
     "name": "stdout",
     "output_type": "stream",
     "text": [
      "7258\n",
      "2084 1203 134\n",
      "810\n",
      "2164 1272 141\n",
      "497\n",
      "1562 842 94\n",
      "279\n"
     ]
    }
   ],
   "source": [
    "import numpy as np\n",
    "import pandas as pd\n",
    "from tqdm import tqdm\n",
    "import torch\n",
    "import random\n",
    "import os\n",
    "from torchvision import datasets\n",
    "import torch.utils.data as data\n",
    "from sklearn.preprocessing import Normalizer\n",
    "from sklearn.metrics import f1_score\n",
    "from PIL import Image\n",
    "from rdkit import Chem\n",
    "from rdkit.Chem import AllChem\n",
    "\n",
    "df_data = pd.read_csv('/egr/research-aidd/menghan1/AnchorDrug/data/level5_beta_trt_cp_24h_10uM.csv')\n",
    "use_HQ_sample_id = pd.read_csv(f'/egr/research-aidd/menghan1/AnchorDrug/HQ_LINCS_retrain/revise_use_LINCS_HQ_data_pretrain_sample_id.csv')['x']\n",
    "df_res = df_data[df_data['sig_id'].isin(use_HQ_sample_id)]\n",
    "cellline_map = pd.read_csv('/egr/research-aidd/menghan1/AnchorDrug/data/CellLineEncode/use_training_cell_line_expression_features_128_encoded_20240111.csv')\n",
    "cell_list = cellline_map['Unnamed: 0'].to_list()\n",
    "df_res = df_res[df_res['cell_iname'].isin(cell_list)]\n",
    "\n",
    "print(len(df_res))\n",
    "pool_drug = set(df_res.SMILES.to_list())\n",
    "\n",
    "for cell in ['MCF7', 'PC3', 'A549']:\n",
    "        use_HQ_sample_id = pd.read_csv(f'/egr/research-aidd/menghan1/AnchorDrug/HQ_LINCS_retrain/revise_use_LINCS_HQ_data_target_cellline_{cell}_sample_id.csv')['x']\n",
    "        # tmp = pd.read_csv('/egr/research-aidd/menghan1/AnchorDrug/HQ_LINCS_retrain/GPS_predictable_genes.csv')\n",
    "        # genelist = tmp.x.to_list()\n",
    "        \n",
    "        \n",
    "        df_target = df_data[df_data['sig_id'].isin(use_HQ_sample_id)]\n",
    "        # median = df_target[['SMILES']+genelist].groupby(by='SMILES').median().reset_index()\n",
    "        # median['cellline'] = cell\n",
    "        # df_target = median\n",
    "        df_target = df_target.rename(columns={'SMILES': 'smiles'})\n",
    "        # for g in genelist:\n",
    "        #     df_target[g] = df_target[g].apply(lambda x: (x > 1.5) * 1 + (x >= -1.5) * 1)\n",
    "\n",
    "        Drugs = df_target['smiles'].to_list()\n",
    "        tmp = pd.read_csv(f'/egr/research-aidd/menghan1/AnchorDrug/HQ_LINCS_retrain/{cell}_internal_val2_data.csv')\n",
    "        valDrugs = tmp.SMILES.to_list()\n",
    "        trainDrugs = set(Drugs)-set(valDrugs)\n",
    "        print(len(Drugs), len(list(trainDrugs)), len(valDrugs))\n",
    "        pool_drug = pool_drug.intersection(trainDrugs)\n",
    "        print(len(list(pool_drug)))\n",
    "\n",
    "        # df_train = df_target[df_target['smiles'].isin(trainDrugs)]\n",
    "        # df_val = df_target[df_target['smiles'].isin(valDrugs)]\n"
   ]
  },
  {
   "cell_type": "code",
   "execution_count": 22,
   "metadata": {},
   "outputs": [],
   "source": [
    "import pickle\n",
    "with open('HQ_pool_drug.pkl', 'wb') as f:\n",
    "    pickle.dump(list(pool_drug), f)"
   ]
  },
  {
   "cell_type": "code",
   "execution_count": 3,
   "metadata": {},
   "outputs": [],
   "source": [
    "import numpy as np\n",
    "import pandas as pd\n",
    "from tqdm import tqdm\n",
    "import torch\n",
    "import random\n",
    "import os, pickle\n",
    "from torchvision import datasets\n",
    "import torch.utils.data as data\n",
    "from sklearn.preprocessing import Normalizer\n",
    "from sklearn.metrics import f1_score\n",
    "from PIL import Image\n",
    "from rdkit import Chem\n",
    "from rdkit.Chem import AllChem\n",
    "import matplotlib.pyplot as plt"
   ]
  },
  {
   "cell_type": "code",
   "execution_count": 12,
   "metadata": {},
   "outputs": [
    {
     "data": {
      "text/plain": [
       "[<matplotlib.lines.Line2D at 0x7fb63eb92070>]"
      ]
     },
     "execution_count": 12,
     "metadata": {},
     "output_type": "execute_result"
    },
    {
     "data": {
      "image/png": "[encoded data removed]",
      "text/plain": [
       "<Figure size 640x480 with 1 Axes>"
      ]
     },
     "metadata": {},
     "output_type": "display_data"
    }
   ],
   "source": [
    "x = [i for i in np.arange(0.00001, 0.01, 0.00001)]\n",
    "y = [-i*torch.log(torch.tensor(i+10e-7)) for i in x]\n",
    "plt.plot(x, y)"
   ]
  }
 ],
 "metadata": {
  "kernelspec": {
   "display_name": "Python 3",
   "language": "python",
   "name": "python3"
  },
  "language_info": {
   "codemirror_mode": {
    "name": "ipython",
    "version": 3
   },
   "file_extension": ".py",
   "mimetype": "text/x-python",
   "name": "python",
   "nbconvert_exporter": "python",
   "pygments_lexer": "ipython3",
   "version": "3.9.18"
  }
 },
 "nbformat": 4,
 "nbformat_minor": 2
}
