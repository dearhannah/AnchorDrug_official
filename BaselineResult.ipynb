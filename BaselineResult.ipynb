{
 "cells": [
  {
   "cell_type": "code",
   "execution_count": 1,
   "metadata": {},
   "outputs": [],
   "source": [
    "import pickle, os\n",
    "import numpy as np\n",
    "import pandas as pd\n",
    "import matplotlib.pyplot as plt"
   ]
  },
  {
   "cell_type": "code",
   "execution_count": 2,
   "metadata": {},
   "outputs": [],
   "source": [
    "resDir = '/egr/research-aidd/menghan1/AnchorDrug/resultBaseLine/'\n",
    "baselines = [\n",
    "    # 'pretrainOnly',\n",
    "    # 'finetune_all',\n",
    "    'finetune_KMeans',\n",
    "    'finetune_naiveUncertainty1',\n",
    "    'finetune_naiveUncertainty2',\n",
    "    ]\n",
    "genelist = ['HMGCS1', 'TOP2A', 'DNAJB1', 'PCNA', 'HMOX1']\n",
    "celllist = ['A549', 'MCF7', 'PC3']"
   ]
  },
  {
   "cell_type": "code",
   "execution_count": 3,
   "metadata": {},
   "outputs": [
    {
     "name": "stdout",
     "output_type": "stream",
     "text": [
      "finetune_KMeans\n",
      "0.3811620347984865\n",
      "[0.26270031 0.82604469 0.10232356]\n",
      "[0.32005269 0.73077796 0.15580284]\n",
      "finetune_naiveUncertainty1\n",
      "0.38691179167282747\n",
      "[0.37400843 0.81828258 0.09499705]\n",
      "[0.20962576 0.83647808 0.11966976]\n",
      "finetune_naiveUncertainty2\n",
      "0.3770909997507534\n",
      "[0.32698699 0.82401937 0.10181969]\n",
      "[0.24031296 0.80747384 0.12229211]\n"
     ]
    }
   ],
   "source": [
    "for q in baselines:\n",
    "    print(q)\n",
    "    fqlist = [f for f in os.listdir(resDir) if q in f]\n",
    "    f1_all, precision_all, recall_all = [],[],[]\n",
    "    for c in celllist:\n",
    "        fc = [f for f in fqlist if c in f][0]\n",
    "        # print(fc)\n",
    "        with open(resDir+fc, 'rb') as f:\n",
    "            data = pickle.load(f)\n",
    "        f1_c, precision_c, recall_c = [],[],[]\n",
    "        for g in data[0]:\n",
    "            # print(g)\n",
    "            f1_g, precision_g, recall_g = [],[],[]\n",
    "            for n in range(3):\n",
    "                acc, f1, precision, recall = data[n][g]\n",
    "                f1_g.append(f1)\n",
    "                precision_g.append(precision)\n",
    "                recall_g.append(recall)\n",
    "            # print(f1_g)\n",
    "            # print(precision_g)\n",
    "            f1_c.append(f1_g)\n",
    "            precision_c.append(precision_g)\n",
    "            recall_c.append(recall_g)\n",
    "        f1_c, precision_c, recall_c = np.array(f1_c), np.array(precision_c), np.array(recall_c)\n",
    "        # print(f1_c.mean())\n",
    "        f1_all.append(f1_c)\n",
    "        precision_all.append(precision_c)\n",
    "        recall_all.append(recall_c)\n",
    "    f1_all, precision_all, recall_all = np.array(f1_all), np.array(precision_all), np.array(recall_all)\n",
    "    # print(f1_all.shape, precision_all.shape, recall_all.shape)\n",
    "    # ## mean of random\n",
    "    # print(f1_all.mean(axis=2))\n",
    "    # print(precision_all.mean(axis=2))\n",
    "    # ## mean of random and gene\n",
    "    # print(f1_all.mean(axis=2).mean(axis=1))\n",
    "    # print(precision_all.mean(axis=2).mean(axis=1))\n",
    "    ## mean of random and gene and cell\n",
    "    print(f1_all.mean(axis=2).mean(axis=1).mean(axis=0))\n",
    "    print(precision_all.mean(axis=2).mean(axis=1).mean(axis=0))\n",
    "    print(recall_all.mean(axis=2).mean(axis=1).mean(axis=0))"
   ]
  },
  {
   "cell_type": "code",
   "execution_count": 4,
   "metadata": {},
   "outputs": [
    {
     "name": "stdout",
     "output_type": "stream",
     "text": [
      "_10_\n",
      "0.4204186320812469\n",
      "[0.48292524 0.82305135 0.24684902]\n",
      "[0.1998362  0.92003088 0.11337617]\n",
      "_20_\n",
      "0.44025893506239494\n",
      "[0.33653294 0.83165423 0.19598378]\n",
      "[0.28888569 0.84340084 0.19006334]\n",
      "_30_\n",
      "0.4360334131110964\n",
      "[0.33586376 0.83095622 0.18038512]\n",
      "[0.28333112 0.84052682 0.18840761]\n",
      "_40_\n",
      "0.43932548043566927\n",
      "[0.32253396 0.83130082 0.19006777]\n",
      "[0.29616516 0.83331773 0.19782564]\n"
     ]
    }
   ],
   "source": [
    "epoch = ['_10_', '_20_', '_30_', '_40_']\n",
    "\n",
    "for q in epoch:\n",
    "    print(q)\n",
    "    fqlist = [f for f in os.listdir(resDir) if q in f]\n",
    "    f1_all, precision_all, recall_all = [],[],[]\n",
    "    for c in celllist:\n",
    "        fc = [f for f in fqlist if c in f][0]\n",
    "        # print(fc)\n",
    "        with open(resDir+fc, 'rb') as f:\n",
    "            data = pickle.load(f)\n",
    "        f1_c, precision_c, recall_c = [],[],[]\n",
    "        for g in data[0]:\n",
    "            # print(g)\n",
    "            f1_g, precision_g, recall_g = [],[],[]\n",
    "            for n in range(3):\n",
    "                acc, f1, precision, recall = data[n][g]\n",
    "                f1_g.append(f1)\n",
    "                precision_g.append(precision)\n",
    "                recall_g.append(recall)\n",
    "            # print(f1_g)\n",
    "            # print(precision_g)\n",
    "            f1_c.append(f1_g)\n",
    "            precision_c.append(precision_g)\n",
    "            recall_c.append(recall_g)\n",
    "        f1_c, precision_c, recall_c = np.array(f1_c), np.array(precision_c), np.array(recall_c)\n",
    "        # print(f1_c.mean())\n",
    "        f1_all.append(f1_c)\n",
    "        precision_all.append(precision_c)\n",
    "        recall_all.append(recall_c)\n",
    "    f1_all, precision_all, recall_all = np.array(f1_all), np.array(precision_all), np.array(recall_all)\n",
    "    ## mean of random and gene and cell\n",
    "    print(f1_all.mean(axis=2).mean(axis=1).mean(axis=0))\n",
    "    print(precision_all.mean(axis=2).mean(axis=1).mean(axis=0))\n",
    "    print(recall_all.mean(axis=2).mean(axis=1).mean(axis=0))"
   ]
  }
 ],
 "metadata": {
  "kernelspec": {
   "display_name": "Python 3",
   "language": "python",
   "name": "python3"
  },
  "language_info": {
   "codemirror_mode": {
    "name": "ipython",
    "version": 3
   },
   "file_extension": ".py",
   "mimetype": "text/x-python",
   "name": "python",
   "nbconvert_exporter": "python",
   "pygments_lexer": "ipython3",
   "version": "3.9.18"
  }
 },
 "nbformat": 4,
 "nbformat_minor": 2
}
