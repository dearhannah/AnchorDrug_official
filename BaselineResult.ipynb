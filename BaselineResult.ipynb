{
 "cells": [
  {
   "cell_type": "code",
   "execution_count": 1,
   "metadata": {},
   "outputs": [],
   "source": [
    "import pickle, os\n",
    "import numpy as np\n",
    "import pandas as pd\n",
    "import matplotlib.pyplot as plt"
   ]
  },
  {
   "cell_type": "code",
   "execution_count": 2,
   "metadata": {},
   "outputs": [],
   "source": [
    "resDir = '/egr/research-aidd/menghan1/AnchorDrug/resultBaseLine/'\n",
    "baselines = [\n",
    "    # 'pretrainOnly',\n",
    "    'finetune_all',\n",
    "    # 'finetune_KMeans',\n",
    "    # 'finetune_naiveUncertainty1',\n",
    "    # 'finetune_naiveUncertainty2',\n",
    "    ]\n",
    "# genelist = ['HMGCS1', 'TOP2A', 'DNAJB1', 'PCNA', 'HMOX1']\n",
    "celllist = ['A549', 'MCF7', 'PC3']"
   ]
  },
  {
   "cell_type": "code",
   "execution_count": 3,
   "metadata": {},
   "outputs": [
    {
     "name": "stdout",
     "output_type": "stream",
     "text": [
      "finetune_all\n",
      "A549_finetune_all_50_0.001.pkl.pkl\n",
      "[(0.5962644673920576, 0.4957596425755592, array([0.30322233, 0.84538717, 0.29815167]), array([0.5916864 , 0.60929226, 0.51676647]), array([[ 2249,  1215,   337],\n",
      "       [ 4759, 13232,  3726],\n",
      "       [  409,  1205,  1726]])), (0.5941853212280823, 0.4961550103493379, array([0.32528107, 0.84766331, 0.27623821]), array([0.56327282, 0.60468757, 0.56107784]), array([[ 2141,  1240,   420],\n",
      "       [ 4095, 13132,  4490],\n",
      "       [  346,  1120,  1874]])), (0.5960219003395939, 0.4967128262185298, array([0.31500808, 0.84731404, 0.28653074]), array([0.563799  , 0.60791085, 0.55538922]), array([[ 2143,  1247,   411],\n",
      "       [ 4307, 13202,  4208],\n",
      "       [  353,  1132,  1855]]))]\n",
      "MCF7_finetune_all_50_0.001.pkl.pkl\n",
      "[(0.5983761971899461, 0.5067098780826761, array([0.36584194, 0.81406243, 0.29846555]), array([0.51219102, 0.6250084 , 0.54695828]), array([[ 3046,  2264,   637],\n",
      "       [ 4798, 18594,  6358],\n",
      "       [  482,  1983,  2976]])), (0.6261121104574846, 0.515844558109067, array([0.36720051, 0.80757994, 0.32494608]), array([0.48192366, 0.67828571, 0.49843779]), array([[ 2866,  2517,   564],\n",
      "       [ 4501, 20179,  5070],\n",
      "       [  438,  2291,  2712]])), (0.6009771986970684, 0.5031304115827576, array([0.35617567, 0.80789923, 0.30102981]), array([0.50865983, 0.636     , 0.51038412]), array([[ 3025,  2333,   589],\n",
      "       [ 4970, 18921,  5859],\n",
      "       [  498,  2166,  2777]]))]\n",
      "PC3_finetune_all_50_0.001.pkl.pkl\n",
      "[(0.6035530297779934, 0.4952140086754652, array([0.31458356, 0.84469228, 0.28161735]), array([0.5143821 , 0.62301974, 0.57524322]), array([[ 2897,  2166,   569],\n",
      "       [ 5854, 20450,  6520],\n",
      "       [  458,  1594,  2779]])), (0.599163721209601, 0.49494353495492066, array([0.30890363, 0.8488632 , 0.28398186]), array([0.55379972, 0.61308798, 0.55744152]), array([[ 3119,  1963,   550],\n",
      "       [ 6460, 20124,  6240],\n",
      "       [  518,  1620,  2693]])), (0.6259847067248827, 0.508466164108769, array([0.31337076, 0.84459433, 0.31158178]), array([0.53515625, 0.65616622, 0.52680604]), array([[ 3014,  2148,   470],\n",
      "       [ 6133, 21538,  5153],\n",
      "       [  471,  1815,  2545]]))]\n"
     ]
    }
   ],
   "source": [
    "for q in baselines:\n",
    "    print(q)\n",
    "    fqlist = [f for f in os.listdir(resDir) if q in f]\n",
    "    f1_all, precision_all, recall_all = [],[],[]\n",
    "    for c in celllist:\n",
    "        fc = [f for f in fqlist if c in f][0]\n",
    "        print(fc)\n",
    "        with open(resDir+fc, 'rb') as f:\n",
    "            data = pickle.load(f)\n",
    "        print(data)\n",
    "        f1_c, precision_c, recall_c = [],[],[]"
   ]
  },
  {
   "cell_type": "code",
   "execution_count": 3,
   "metadata": {},
   "outputs": [
    {
     "name": "stdout",
     "output_type": "stream",
     "text": [
      "finetune_KMeans\n",
      "0.3811620347984865\n",
      "[0.26270031 0.82604469 0.10232356]\n",
      "[0.32005269 0.73077796 0.15580284]\n",
      "finetune_naiveUncertainty1\n",
      "0.38691179167282747\n",
      "[0.37400843 0.81828258 0.09499705]\n",
      "[0.20962576 0.83647808 0.11966976]\n",
      "finetune_naiveUncertainty2\n",
      "0.3770909997507534\n",
      "[0.32698699 0.82401937 0.10181969]\n",
      "[0.24031296 0.80747384 0.12229211]\n"
     ]
    }
   ],
   "source": [
    "for q in baselines:\n",
    "    print(q)\n",
    "    fqlist = [f for f in os.listdir(resDir) if q in f]\n",
    "    f1_all, precision_all, recall_all = [],[],[]\n",
    "    for c in celllist:\n",
    "        fc = [f for f in fqlist if c in f][0]\n",
    "        # print(fc)\n",
    "        with open(resDir+fc, 'rb') as f:\n",
    "            data = pickle.load(f)\n",
    "        f1_c, precision_c, recall_c = [],[],[]\n",
    "        for g in data[0]:\n",
    "            # print(g)\n",
    "            f1_g, precision_g, recall_g = [],[],[]\n",
    "            for n in range(3):\n",
    "                acc, f1, precision, recall = data[n][g]\n",
    "                f1_g.append(f1)\n",
    "                precision_g.append(precision)\n",
    "                recall_g.append(recall)\n",
    "            # print(f1_g)\n",
    "            # print(precision_g)\n",
    "            f1_c.append(f1_g)\n",
    "            precision_c.append(precision_g)\n",
    "            recall_c.append(recall_g)\n",
    "        f1_c, precision_c, recall_c = np.array(f1_c), np.array(precision_c), np.array(recall_c)\n",
    "        # print(f1_c.mean())\n",
    "        f1_all.append(f1_c)\n",
    "        precision_all.append(precision_c)\n",
    "        recall_all.append(recall_c)\n",
    "    f1_all, precision_all, recall_all = np.array(f1_all), np.array(precision_all), np.array(recall_all)\n",
    "    # print(f1_all.shape, precision_all.shape, recall_all.shape)\n",
    "    # ## mean of random\n",
    "    # print(f1_all.mean(axis=2))\n",
    "    # print(precision_all.mean(axis=2))\n",
    "    # ## mean of random and gene\n",
    "    # print(f1_all.mean(axis=2).mean(axis=1))\n",
    "    # print(precision_all.mean(axis=2).mean(axis=1))\n",
    "    ## mean of random and gene and cell\n",
    "    print(f1_all.mean(axis=2).mean(axis=1).mean(axis=0))\n",
    "    print(precision_all.mean(axis=2).mean(axis=1).mean(axis=0))\n",
    "    print(recall_all.mean(axis=2).mean(axis=1).mean(axis=0))"
   ]
  },
  {
   "cell_type": "code",
   "execution_count": 4,
   "metadata": {},
   "outputs": [
    {
     "name": "stdout",
     "output_type": "stream",
     "text": [
      "_10_\n",
      "0.4204186320812469\n",
      "[0.48292524 0.82305135 0.24684902]\n",
      "[0.1998362  0.92003088 0.11337617]\n",
      "_20_\n",
      "0.44025893506239494\n",
      "[0.33653294 0.83165423 0.19598378]\n",
      "[0.28888569 0.84340084 0.19006334]\n",
      "_30_\n",
      "0.4360334131110964\n",
      "[0.33586376 0.83095622 0.18038512]\n",
      "[0.28333112 0.84052682 0.18840761]\n",
      "_40_\n",
      "0.43932548043566927\n",
      "[0.32253396 0.83130082 0.19006777]\n",
      "[0.29616516 0.83331773 0.19782564]\n"
     ]
    }
   ],
   "source": [
    "epoch = ['_10_', '_20_', '_30_', '_40_']\n",
    "\n",
    "for q in epoch:\n",
    "    print(q)\n",
    "    fqlist = [f for f in os.listdir(resDir) if q in f]\n",
    "    f1_all, precision_all, recall_all = [],[],[]\n",
    "    for c in celllist:\n",
    "        fc = [f for f in fqlist if c in f][0]\n",
    "        # print(fc)\n",
    "        with open(resDir+fc, 'rb') as f:\n",
    "            data = pickle.load(f)\n",
    "        f1_c, precision_c, recall_c = [],[],[]\n",
    "        for g in data[0]:\n",
    "            # print(g)\n",
    "            f1_g, precision_g, recall_g = [],[],[]\n",
    "            for n in range(3):\n",
    "                acc, f1, precision, recall = data[n][g]\n",
    "                f1_g.append(f1)\n",
    "                precision_g.append(precision)\n",
    "                recall_g.append(recall)\n",
    "            # print(f1_g)\n",
    "            # print(precision_g)\n",
    "            f1_c.append(f1_g)\n",
    "            precision_c.append(precision_g)\n",
    "            recall_c.append(recall_g)\n",
    "        f1_c, precision_c, recall_c = np.array(f1_c), np.array(precision_c), np.array(recall_c)\n",
    "        # print(f1_c.mean())\n",
    "        f1_all.append(f1_c)\n",
    "        precision_all.append(precision_c)\n",
    "        recall_all.append(recall_c)\n",
    "    f1_all, precision_all, recall_all = np.array(f1_all), np.array(precision_all), np.array(recall_all)\n",
    "    ## mean of random and gene and cell\n",
    "    print(f1_all.mean(axis=2).mean(axis=1).mean(axis=0))\n",
    "    print(precision_all.mean(axis=2).mean(axis=1).mean(axis=0))\n",
    "    print(recall_all.mean(axis=2).mean(axis=1).mean(axis=0))"
   ]
  }
 ],
 "metadata": {
  "kernelspec": {
   "display_name": "Python 3",
   "language": "python",
   "name": "python3"
  },
  "language_info": {
   "codemirror_mode": {
    "name": "ipython",
    "version": 3
   },
   "file_extension": ".py",
   "mimetype": "text/x-python",
   "name": "python",
   "nbconvert_exporter": "python",
   "pygments_lexer": "ipython3",
   "version": "3.9.18"
  }
 },
 "nbformat": 4,
 "nbformat_minor": 2
}
