{
 "cells": [
  {
   "cell_type": "code",
   "execution_count": 1,
   "metadata": {},
   "outputs": [],
   "source": [
    "import os"
   ]
  },
  {
   "cell_type": "code",
   "execution_count": 4,
   "metadata": {},
   "outputs": [
    {
     "data": {
      "text/plain": [
       "'pretrain_universal_gene_PCNA_cellline_HELA_seed_10_19_final.pth'"
      ]
     },
     "execution_count": 4,
     "metadata": {},
     "output_type": "execute_result"
    }
   ],
   "source": [
    "files = os.listdir('/egr/research-aidd/menghan1/AnchorDrug/AnchorDrugPrediction/finetune_step1_models')\n",
    "files[0]"
   ]
  },
  {
   "cell_type": "code",
   "execution_count": 8,
   "metadata": {},
   "outputs": [
    {
     "name": "stdout",
     "output_type": "stream",
     "text": [
      "['OCILY3', 'AN3CA', 'HS578T', 'NOMO1', 'SKBR3', 'HCC515', 'NCIH596', 'U2OS', 'HELA', 'THP1', 'HL60', 'YAPC', 'NCIH1563', 'OC314', '22RV1', 'NCIH1781', 'U937', 'J82', 'MINO', 'NCIH1975', 'K562', 'SNU1040', 'MFE319', 'HCC827', 'MDAMB231', 'BT474', 'VCAP', 'HT29', 'BT20', 'NALM6', 'SUDHL4', 'SKMEL5', 'HCT116', 'JURKAT', 'NCIH2073', 'HA1E', '5637', 'HUH7', 'CW2', 'DV90', 'A375', 'OVCAR8', 'U266B1', 'OCILY19', 'SKNSH', 'NCIH508', 'VMCUB1', 'LN229', 'KMS34', 'HEPG2', 'NCIH2110']\n"
     ]
    }
   ],
   "source": [
    "cell = list(set([f.split('_')[5] for f in files]))\n",
    "print(cell)\n"
   ]
  },
  {
   "cell_type": "code",
   "execution_count": 2,
   "metadata": {},
   "outputs": [],
   "source": [
    "import torch\n",
    "from torch.nn import functional as F"
   ]
  },
  {
   "cell_type": "code",
   "execution_count": 3,
   "metadata": {},
   "outputs": [
    {
     "name": "stdout",
     "output_type": "stream",
     "text": [
      "torch.Size([3, 5])\n",
      "torch.Size([3])\n"
     ]
    }
   ],
   "source": [
    "input = torch.randn(3, 5, requires_grad=True)\n",
    "print(input.shape)\n",
    "target = torch.randint(5, (3,), dtype=torch.int64)\n",
    "print(target.shape)\n",
    "loss = F.cross_entropy(input, target)"
   ]
  },
  {
   "cell_type": "code",
   "execution_count": 7,
   "metadata": {},
   "outputs": [
    {
     "data": {
      "text/plain": [
       "51"
      ]
     },
     "execution_count": 7,
     "metadata": {},
     "output_type": "execute_result"
    }
   ],
   "source": [
    "len(cell)"
   ]
  }
 ],
 "metadata": {
  "kernelspec": {
   "display_name": "Python 3",
   "language": "python",
   "name": "python3"
  },
  "language_info": {
   "codemirror_mode": {
    "name": "ipython",
    "version": 3
   },
   "file_extension": ".py",
   "mimetype": "text/x-python",
   "name": "python",
   "nbconvert_exporter": "python",
   "pygments_lexer": "ipython3",
   "version": "3.9.18"
  }
 },
 "nbformat": 4,
 "nbformat_minor": 2
}
