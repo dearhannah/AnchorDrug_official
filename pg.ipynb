{
 "cells": [
  {
   "cell_type": "code",
   "execution_count": 1,
   "metadata": {},
   "outputs": [],
   "source": [
    "import pandas as pd"
   ]
  },
  {
   "cell_type": "code",
   "execution_count": 2,
   "metadata": {},
   "outputs": [],
   "source": [
    "df = pd.read_csv('/egr/research-aidd/menghan1/AnchorDrug/HQ_LINCS_retrain/cellline_specific_drug_pool_A549.csv')"
   ]
  },
  {
   "cell_type": "code",
   "execution_count": 6,
   "metadata": {},
   "outputs": [
    {
     "data": {
      "text/plain": [
       "642"
      ]
     },
     "execution_count": 6,
     "metadata": {},
     "output_type": "execute_result"
    }
   ],
   "source": [
    "len(df['0'].to_list())"
   ]
  },
  {
   "cell_type": "code",
   "execution_count": 3,
   "metadata": {},
   "outputs": [
    {
     "name": "stdout",
     "output_type": "stream",
     "text": [
      "['S']\n",
      "S\n",
      "['A', 'B']\n",
      "B\n",
      "['A', 'C']\n",
      "C\n",
      "['A', 'D']\n",
      "D\n",
      "->S->B->C->DG\n"
     ]
    }
   ],
   "source": [
    "# do not remember visited nodes\n",
    "# Successors are returned in top-to-bottom order\n",
    "# Specifically, the children of S are (A, B) and the children of A are (A, D), in that order\n",
    "# For DEPTH FIRST SEARCH, show the order in which nodes are expanded (i.e., to expand a node means that its children are generated)\n",
    "# Ending with the goal node that is found\n",
    "\n",
    "\n",
    "\n",
    "def main():\n",
    "    # This graph retuns the letters from the diagram in a top to bottom order, Specifically the children of S are (A, B) and the children of A are (A, D), in that order\n",
    "    directedGraph = {\"S\": [\"A\",\"B\"], \"A\": [\"A\",\"D\"], \"B\": [\"C\"], \"C\": [\"D\"], \"D\": [\"G\"]}\n",
    "\n",
    "    # Last in, first out data structure used for depth first search.\n",
    "    stack = []\n",
    "\n",
    "    startingNode = \"S\"\n",
    "    path = \"\"\n",
    "    stack.append(startingNode)\n",
    "    while len(stack) != 0:\n",
    "        print(stack)\n",
    "        currNode = stack.pop()\n",
    "        print(currNode)\n",
    "        # We dont remember visited nodes so no visited check\n",
    "\n",
    "        # to expand a node means that its children are generated\n",
    "        path += \"->\" + currNode\n",
    "        for child in directedGraph[currNode]:\n",
    "            # Ending with the goal node that is found\n",
    "            if child == \"G\":\n",
    "                return path+\"G\"\n",
    "            stack.append(child)\n",
    "\n",
    "print(main())"
   ]
  }
 ],
 "metadata": {
  "kernelspec": {
   "display_name": "Python 3",
   "language": "python",
   "name": "python3"
  },
  "language_info": {
   "codemirror_mode": {
    "name": "ipython",
    "version": 3
   },
   "file_extension": ".py",
   "mimetype": "text/x-python",
   "name": "python",
   "nbconvert_exporter": "python",
   "pygments_lexer": "ipython3",
   "version": "3.9.18"
  }
 },
 "nbformat": 4,
 "nbformat_minor": 2
}
