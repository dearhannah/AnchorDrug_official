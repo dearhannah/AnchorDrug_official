{
 "cells": [
  {
   "cell_type": "code",
   "execution_count": 1,
   "metadata": {},
   "outputs": [],
   "source": [
    "import pandas as pd"
   ]
  },
  {
   "cell_type": "code",
   "execution_count": 2,
   "metadata": {},
   "outputs": [],
   "source": [
    "anchor_drug_file_pwd = '/egr/research-aidd/menghan1/AnchorDrug/HQ_LINCS_retrain/clustering_selected_drugs/cell_line_specific/A549_5_drugs_kmode_clustering_random_seed10.csv'\n",
    "anchor_drugs = pd.read_csv(anchor_drug_file_pwd)['drug'].tolist()"
   ]
  },
  {
   "cell_type": "code",
   "execution_count": 3,
   "metadata": {},
   "outputs": [
    {
     "data": {
      "text/html": [
       "<div>\n",
       "<style scoped>\n",
       "    .dataframe tbody tr th:only-of-type {\n",
       "        vertical-align: middle;\n",
       "    }\n",
       "\n",
       "    .dataframe tbody tr th {\n",
       "        vertical-align: top;\n",
       "    }\n",
       "\n",
       "    .dataframe thead th {\n",
       "        text-align: right;\n",
       "    }\n",
       "</style>\n",
       "<table border=\"1\" class=\"dataframe\">\n",
       "  <thead>\n",
       "    <tr style=\"text-align: right;\">\n",
       "      <th></th>\n",
       "      <th>Unnamed: 0</th>\n",
       "      <th>drug</th>\n",
       "      <th>cluster</th>\n",
       "    </tr>\n",
       "  </thead>\n",
       "  <tbody>\n",
       "    <tr>\n",
       "      <th>0</th>\n",
       "      <td>74</td>\n",
       "      <td>CNCCC(Oc1ccc(C(F)(F)F)cc1)c1ccccc1</td>\n",
       "      <td>3</td>\n",
       "    </tr>\n",
       "    <tr>\n",
       "      <th>1</th>\n",
       "      <td>321</td>\n",
       "      <td>COc1ccc(N(C(=O)CCl)C(C(=O)NCCc2ccccc2)c2cccs2)...</td>\n",
       "      <td>2</td>\n",
       "    </tr>\n",
       "    <tr>\n",
       "      <th>2</th>\n",
       "      <td>147</td>\n",
       "      <td>Cc1ccc(C(=CCN2CCCC2)c2ccccn2)cc1</td>\n",
       "      <td>1</td>\n",
       "    </tr>\n",
       "    <tr>\n",
       "      <th>3</th>\n",
       "      <td>434</td>\n",
       "      <td>C[C@H]1CN([C@@H](C)CO)C(=O)c2cccc(NC(=O)c3ccnc...</td>\n",
       "      <td>0</td>\n",
       "    </tr>\n",
       "    <tr>\n",
       "      <th>4</th>\n",
       "      <td>555</td>\n",
       "      <td>O=C(C[C@H]1C[C@@H]2c3cc(NC(=O)Cc4ccncc4)ccc3O[...</td>\n",
       "      <td>4</td>\n",
       "    </tr>\n",
       "  </tbody>\n",
       "</table>\n",
       "</div>"
      ],
      "text/plain": [
       "   Unnamed: 0                                               drug  cluster\n",
       "0          74                 CNCCC(Oc1ccc(C(F)(F)F)cc1)c1ccccc1        3\n",
       "1         321  COc1ccc(N(C(=O)CCl)C(C(=O)NCCc2ccccc2)c2cccs2)...        2\n",
       "2         147                   Cc1ccc(C(=CCN2CCCC2)c2ccccn2)cc1        1\n",
       "3         434  C[C@H]1CN([C@@H](C)CO)C(=O)c2cccc(NC(=O)c3ccnc...        0\n",
       "4         555  O=C(C[C@H]1C[C@@H]2c3cc(NC(=O)Cc4ccncc4)ccc3O[...        4"
      ]
     },
     "execution_count": 3,
     "metadata": {},
     "output_type": "execute_result"
    }
   ],
   "source": [
    "pd.read_csv(anchor_drug_file_pwd)"
   ]
  },
  {
   "cell_type": "code",
   "execution_count": 2,
   "metadata": {},
   "outputs": [],
   "source": [
    "df = pd.read_csv('/egr/research-aidd/menghan1/AnchorDrug/HQ_LINCS_retrain/cellline_specific_drug_pool_A549.csv')"
   ]
  },
  {
   "cell_type": "code",
   "execution_count": 6,
   "metadata": {},
   "outputs": [
    {
     "data": {
      "text/plain": [
       "642"
      ]
     },
     "execution_count": 6,
     "metadata": {},
     "output_type": "execute_result"
    }
   ],
   "source": [
    "len(df['0'].to_list())"
   ]
  },
  {
   "cell_type": "code",
   "execution_count": 3,
   "metadata": {},
   "outputs": [
    {
     "name": "stdout",
     "output_type": "stream",
     "text": [
      "['S']\n",
      "S\n",
      "['A', 'B']\n",
      "B\n",
      "['A', 'C']\n",
      "C\n",
      "['A', 'D']\n",
      "D\n",
      "->S->B->C->DG\n"
     ]
    }
   ],
   "source": [
    "# do not remember visited nodes\n",
    "# Successors are returned in top-to-bottom order\n",
    "# Specifically, the children of S are (A, B) and the children of A are (A, D), in that order\n",
    "# For DEPTH FIRST SEARCH, show the order in which nodes are expanded (i.e., to expand a node means that its children are generated)\n",
    "# Ending with the goal node that is found\n",
    "\n",
    "\n",
    "\n",
    "def main():\n",
    "    # This graph retuns the letters from the diagram in a top to bottom order, Specifically the children of S are (A, B) and the children of A are (A, D), in that order\n",
    "    directedGraph = {\"S\": [\"A\",\"B\"], \"A\": [\"A\",\"D\"], \"B\": [\"C\"], \"C\": [\"D\"], \"D\": [\"G\"]}\n",
    "\n",
    "    # Last in, first out data structure used for depth first search.\n",
    "    stack = []\n",
    "\n",
    "    startingNode = \"S\"\n",
    "    path = \"\"\n",
    "    stack.append(startingNode)\n",
    "    while len(stack) != 0:\n",
    "        print(stack)\n",
    "        currNode = stack.pop()\n",
    "        print(currNode)\n",
    "        # We dont remember visited nodes so no visited check\n",
    "\n",
    "        # to expand a node means that its children are generated\n",
    "        path += \"->\" + currNode\n",
    "        for child in directedGraph[currNode]:\n",
    "            # Ending with the goal node that is found\n",
    "            if child == \"G\":\n",
    "                return path+\"G\"\n",
    "            stack.append(child)\n",
    "\n",
    "print(main())"
   ]
  }
 ],
 "metadata": {
  "kernelspec": {
   "display_name": "Python 3",
   "language": "python",
   "name": "python3"
  },
  "language_info": {
   "codemirror_mode": {
    "name": "ipython",
    "version": 3
   },
   "file_extension": ".py",
   "mimetype": "text/x-python",
   "name": "python",
   "nbconvert_exporter": "python",
   "pygments_lexer": "ipython3",
   "version": "3.9.18"
  }
 },
 "nbformat": 4,
 "nbformat_minor": 2
}
