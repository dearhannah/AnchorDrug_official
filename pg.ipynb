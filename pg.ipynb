{
 "cells": [
  {
   "cell_type": "code",
   "execution_count": 1,
   "metadata": {},
   "outputs": [
    {
     "name": "stdout",
     "output_type": "stream",
     "text": [
      "Total number of parameters: 2396579\n"
     ]
    }
   ],
   "source": [
    "import torch\n",
    "import torch.nn as nn\n",
    "import torch.nn.functional as F\n",
    "\n",
    "class MLP(nn.Module):\n",
    "    def __init__(self, dim=(2259,), hid1=1000, hid2=128, embSize=64, num_classes=3, dropout_rate=0.4):\n",
    "        super(MLP, self).__init__()\n",
    "        self.dim = embSize\n",
    "        self.dropout_rate = dropout_rate\n",
    "        self.fc1 = nn.Linear(dim[0], hid1)\n",
    "        self.fc2 = nn.Linear(hid1, hid2)\n",
    "        self.fc3 = nn.Linear(hid2, embSize)\n",
    "        self.fc4 = nn.Linear(embSize, num_classes)\n",
    "        self.dropout = nn.Dropout(dropout_rate)\n",
    "        \n",
    "    def initial_kaiming_normal(self):\n",
    "        torch.nn.init.kaiming_normal_(self.fc1.weight)\n",
    "        torch.nn.init.kaiming_normal_(self.fc2.weight)\n",
    "        torch.nn.init.kaiming_normal_(self.fc3.weight)\n",
    "        torch.nn.init.kaiming_normal_(self.fc4.weight)\n",
    "        \n",
    "    def forward(self, x):\n",
    "        h = x\n",
    "        h = self.fc1(h)\n",
    "        h = F.leaky_relu(h, negative_slope=0.01)\n",
    "        h = self.dropout(h)\n",
    "        h = self.fc2(h)\n",
    "        h = F.leaky_relu(h, negative_slope=0.01)\n",
    "        h = self.dropout(h)\n",
    "        h = self.fc3(h)\n",
    "        h = F.leaky_relu(h, negative_slope=0.01)\n",
    "        h = self.dropout(h)\n",
    "        logit = self.fc4(h)\n",
    "        return logit #, h\n",
    "    \n",
    "    def size(self):\n",
    "        print('zise')\n",
    "        model_parameters = filter(lambda p: p.requires_grad, self.parameters())\n",
    "        params = sum([torch.prod(torch.tensor(p.size())) for p in model_parameters])\n",
    "        return params.item()\n",
    "\n",
    "# Example usage:\n",
    "model = MLP()\n",
    "print(\"Total number of parameters:\", model.size())\n"
   ]
  },
  {
   "cell_type": "code",
   "execution_count": 2,
   "metadata": {},
   "outputs": [
    {
     "name": "stdout",
     "output_type": "stream",
     "text": [
      "512-64 Total number of parameters: 1194307\n",
      "512-128 Total number of parameters: 1231235\n",
      "512-256 Total number of parameters: 1305091\n",
      "1000-64 Total number of parameters: 2328419\n",
      "1000-128 Total number of parameters: 2396579\n",
      "1000-256 Total number of parameters: 2532899\n",
      "1024-64 Total number of parameters: 2384195\n",
      "1024-128 Total number of parameters: 2453891\n",
      "1024-256 Total number of parameters: 2593283\n"
     ]
    }
   ],
   "source": [
    "for h1 in [512, 1000, 1024]:\n",
    "    for h2 in [64, 128, 256]:\n",
    "        model = MLP(hid1=h1, hid2=h2)\n",
    "        print(f\"{str(h1)}-{str(h2)} Total number of parameters:\", model.size())"
   ]
  }
 ],
 "metadata": {
  "kernelspec": {
   "display_name": "Python 3",
   "language": "python",
   "name": "python3"
  },
  "language_info": {
   "codemirror_mode": {
    "name": "ipython",
    "version": 3
   },
   "file_extension": ".py",
   "mimetype": "text/x-python",
   "name": "python",
   "nbconvert_exporter": "python",
   "pygments_lexer": "ipython3",
   "version": "3.9.18"
  }
 },
 "nbformat": 4,
 "nbformat_minor": 2
}
