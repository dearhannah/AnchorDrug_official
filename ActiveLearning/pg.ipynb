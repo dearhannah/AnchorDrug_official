{
 "cells": [
  {
   "cell_type": "code",
   "execution_count": 21,
   "metadata": {},
   "outputs": [
    {
     "name": "stdout",
     "output_type": "stream",
     "text": [
      "7258\n",
      "2084 1203 134\n",
      "810\n",
      "2164 1272 141\n",
      "497\n",
      "1562 842 94\n",
      "279\n"
     ]
    }
   ],
   "source": [
    "import numpy as np\n",
    "import pandas as pd\n",
    "from tqdm import tqdm\n",
    "import torch\n",
    "import random\n",
    "import os\n",
    "from torchvision import datasets\n",
    "import torch.utils.data as data\n",
    "from sklearn.preprocessing import Normalizer\n",
    "from sklearn.metrics import f1_score\n",
    "from PIL import Image\n",
    "from rdkit import Chem\n",
    "from rdkit.Chem import AllChem\n",
    "\n",
    "df_data = pd.read_csv('/egr/research-aidd/menghan1/AnchorDrug/data/level5_beta_trt_cp_24h_10uM.csv')\n",
    "use_HQ_sample_id = pd.read_csv(f'/egr/research-aidd/menghan1/AnchorDrug/HQ_LINCS_retrain/revise_use_LINCS_HQ_data_pretrain_sample_id.csv')['x']\n",
    "df_res = df_data[df_data['sig_id'].isin(use_HQ_sample_id)]\n",
    "cellline_map = pd.read_csv('/egr/research-aidd/menghan1/AnchorDrug/data/CellLineEncode/use_training_cell_line_expression_features_128_encoded_20240111.csv')\n",
    "cell_list = cellline_map['Unnamed: 0'].to_list()\n",
    "df_res = df_res[df_res['cell_iname'].isin(cell_list)]\n",
    "\n",
    "print(len(df_res))\n",
    "pool_drug = set(df_res.SMILES.to_list())\n",
    "\n",
    "for cell in ['MCF7', 'PC3', 'A549']:\n",
    "        use_HQ_sample_id = pd.read_csv(f'/egr/research-aidd/menghan1/AnchorDrug/HQ_LINCS_retrain/revise_use_LINCS_HQ_data_target_cellline_{cell}_sample_id.csv')['x']\n",
    "        # tmp = pd.read_csv('/egr/research-aidd/menghan1/AnchorDrug/HQ_LINCS_retrain/GPS_predictable_genes.csv')\n",
    "        # genelist = tmp.x.to_list()\n",
    "        \n",
    "        \n",
    "        df_target = df_data[df_data['sig_id'].isin(use_HQ_sample_id)]\n",
    "        # median = df_target[['SMILES']+genelist].groupby(by='SMILES').median().reset_index()\n",
    "        # median['cellline'] = cell\n",
    "        # df_target = median\n",
    "        df_target = df_target.rename(columns={'SMILES': 'smiles'})\n",
    "        # for g in genelist:\n",
    "        #     df_target[g] = df_target[g].apply(lambda x: (x > 1.5) * 1 + (x >= -1.5) * 1)\n",
    "\n",
    "        Drugs = df_target['smiles'].to_list()\n",
    "        tmp = pd.read_csv(f'/egr/research-aidd/menghan1/AnchorDrug/HQ_LINCS_retrain/{cell}_internal_val2_data.csv')\n",
    "        valDrugs = tmp.SMILES.to_list()\n",
    "        trainDrugs = set(Drugs)-set(valDrugs)\n",
    "        print(len(Drugs), len(list(trainDrugs)), len(valDrugs))\n",
    "        pool_drug = pool_drug.intersection(trainDrugs)\n",
    "        print(len(list(pool_drug)))\n",
    "\n",
    "        # df_train = df_target[df_target['smiles'].isin(trainDrugs)]\n",
    "        # df_val = df_target[df_target['smiles'].isin(valDrugs)]\n"
   ]
  },
  {
   "cell_type": "code",
   "execution_count": 22,
   "metadata": {},
   "outputs": [],
   "source": [
    "import pickle\n",
    "with open('HQ_pool_drug.pkl', 'wb') as f:\n",
    "    pickle.dump(list(pool_drug), f)"
   ]
  },
  {
   "cell_type": "code",
   "execution_count": 1,
   "metadata": {},
   "outputs": [],
   "source": [
    "import numpy as np\n",
    "import pandas as pd\n",
    "from tqdm import tqdm\n",
    "import torch\n",
    "import random\n",
    "import os, pickle\n",
    "from torchvision import datasets\n",
    "import torch.utils.data as data\n",
    "from sklearn.preprocessing import Normalizer\n",
    "from sklearn.metrics import f1_score\n",
    "from PIL import Image\n",
    "from rdkit import Chem\n",
    "from rdkit.Chem import AllChem"
   ]
  },
  {
   "cell_type": "code",
   "execution_count": 3,
   "metadata": {},
   "outputs": [
    {
     "data": {
      "text/plain": [
       "tensor([[0.2612, 0.2648, 0.5329, 0.2044, 0.5449, 0.6778, 0.7799, 0.7144, 0.5464,\n",
       "         0.4501],\n",
       "        [0.3396, 0.1379, 0.6470, 0.7493, 0.2567, 0.7192, 0.5119, 0.4172, 0.2098,\n",
       "         0.0164],\n",
       "        [0.1395, 0.3654, 0.4532, 0.7445, 0.6429, 0.1704, 0.5869, 0.3531, 0.9040,\n",
       "         0.6901],\n",
       "        [0.3571, 0.3114, 0.3720, 0.7654, 0.5273, 0.2036, 0.0676, 0.8054, 0.2283,\n",
       "         0.2747],\n",
       "        [0.1931, 0.6388, 0.8729, 0.1342, 0.1833, 0.4717, 0.3625, 0.7046, 0.0659,\n",
       "         0.4700],\n",
       "        [0.3470, 0.1281, 0.3182, 0.6841, 0.4964, 0.1919, 0.8253, 0.8289, 0.5368,\n",
       "         0.6650],\n",
       "        [0.1000, 0.2683, 0.5350, 0.0772, 0.3491, 0.8917, 0.6664, 0.4180, 0.0076,\n",
       "         0.3310],\n",
       "        [0.3566, 0.1236, 0.9572, 0.5597, 0.4608, 0.3390, 0.7819, 0.9701, 0.1375,\n",
       "         0.0689],\n",
       "        [0.9911, 0.5844, 0.7553, 0.9817, 0.6434, 0.9404, 0.9557, 0.1824, 0.6003,\n",
       "         0.9934]])"
      ]
     },
     "execution_count": 3,
     "metadata": {},
     "output_type": "execute_result"
    }
   ],
   "source": [
    "a = torch.rand(9,10)\n",
    "a"
   ]
  },
  {
   "cell_type": "code",
   "execution_count": 5,
   "metadata": {},
   "outputs": [
    {
     "data": {
      "text/plain": [
       "tensor([[0.3428, 0.3136, 0.6049, 0.5445, 0.4561, 0.5117, 0.6154, 0.5993, 0.3596,\n",
       "         0.4399]])"
      ]
     },
     "execution_count": 5,
     "metadata": {},
     "output_type": "execute_result"
    }
   ],
   "source": [
    "torch.unsqueeze(a.mean(0),0)"
   ]
  },
  {
   "cell_type": "code",
   "execution_count": 10,
   "metadata": {},
   "outputs": [
    {
     "data": {
      "text/plain": [
       "tensor([0.3964, 0.8496, 0.9765, 0.1756, 0.2676, 0.2418, 0.4815, 0.9166, 0.5119,\n",
       "        0.1503, 0.1443, 0.1001, 0.7114, 0.8827])"
      ]
     },
     "execution_count": 10,
     "metadata": {},
     "output_type": "execute_result"
    }
   ],
   "source": [
    "torch.concatenate((a,b),0)"
   ]
  }
 ],
 "metadata": {
  "kernelspec": {
   "display_name": "Python 3",
   "language": "python",
   "name": "python3"
  },
  "language_info": {
   "codemirror_mode": {
    "name": "ipython",
    "version": 3
   },
   "file_extension": ".py",
   "mimetype": "text/x-python",
   "name": "python",
   "nbconvert_exporter": "python",
   "pygments_lexer": "ipython3",
   "version": "3.9.18"
  }
 },
 "nbformat": 4,
 "nbformat_minor": 2
}
