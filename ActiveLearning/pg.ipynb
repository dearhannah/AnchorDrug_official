{
 "cells": [
  {
   "cell_type": "code",
   "execution_count": 3,
   "metadata": {},
   "outputs": [
    {
     "name": "stdout",
     "output_type": "stream",
     "text": [
      "2084 1203 134\n",
      "1203\n",
      "2164 1272 141\n",
      "563\n",
      "1562 842 94\n",
      "288\n"
     ]
    }
   ],
   "source": [
    "import numpy as np\n",
    "import pandas as pd\n",
    "from tqdm import tqdm\n",
    "import torch\n",
    "import random\n",
    "import os\n",
    "from torchvision import datasets\n",
    "import torch.utils.data as data\n",
    "from sklearn.preprocessing import Normalizer\n",
    "from sklearn.metrics import f1_score\n",
    "from PIL import Image\n",
    "from rdkit import Chem\n",
    "from rdkit.Chem import AllChem\n",
    "\n",
    "df_data = pd.read_csv('/egr/research-aidd/menghan1/AnchorDrug/data/level5_beta_trt_cp_24h_10uM.csv')\n",
    "pool_drug = set(df_data.SMILES.to_list())\n",
    "\n",
    "for cell in ['MCF7', 'PC3', 'A549']:\n",
    "        use_HQ_sample_id = pd.read_csv(f'/egr/research-aidd/menghan1/AnchorDrug/HQ_LINCS_retrain/revise_use_LINCS_HQ_data_target_cellline_{cell}_sample_id.csv')['x']\n",
    "        # tmp = pd.read_csv('/egr/research-aidd/menghan1/AnchorDrug/HQ_LINCS_retrain/GPS_predictable_genes.csv')\n",
    "        # genelist = tmp.x.to_list()\n",
    "        \n",
    "        \n",
    "        df_target = df_data[df_data['sig_id'].isin(use_HQ_sample_id)]\n",
    "        # median = df_target[['SMILES']+genelist].groupby(by='SMILES').median().reset_index()\n",
    "        # median['cellline'] = cell\n",
    "        # df_target = median\n",
    "        df_target = df_target.rename(columns={'SMILES': 'smiles'})\n",
    "        # for g in genelist:\n",
    "        #     df_target[g] = df_target[g].apply(lambda x: (x > 1.5) * 1 + (x >= -1.5) * 1)\n",
    "\n",
    "        Drugs = df_target['smiles'].to_list()\n",
    "        tmp = pd.read_csv(f'/egr/research-aidd/menghan1/AnchorDrug/HQ_LINCS_retrain/{cell}_internal_val2_data.csv')\n",
    "        valDrugs = tmp.SMILES.to_list()\n",
    "        trainDrugs = set(Drugs)-set(valDrugs)\n",
    "        print(len(Drugs), len(list(trainDrugs)), len(valDrugs))\n",
    "        pool_drug = pool_drug.intersection(trainDrugs)\n",
    "        print(len(list(pool_drug)))\n",
    "\n",
    "        # df_train = df_target[df_target['smiles'].isin(trainDrugs)]\n",
    "        # df_val = df_target[df_target['smiles'].isin(valDrugs)]\n"
   ]
  },
  {
   "cell_type": "code",
   "execution_count": 15,
   "metadata": {},
   "outputs": [
    {
     "data": {
      "text/plain": [
       "360"
      ]
     },
     "execution_count": 15,
     "metadata": {},
     "output_type": "execute_result"
    }
   ],
   "source": [
    "len(pool_drug)"
   ]
  }
 ],
 "metadata": {
  "kernelspec": {
   "display_name": "Python 3",
   "language": "python",
   "name": "python3"
  },
  "language_info": {
   "codemirror_mode": {
    "name": "ipython",
    "version": 3
   },
   "file_extension": ".py",
   "mimetype": "text/x-python",
   "name": "python",
   "nbconvert_exporter": "python",
   "pygments_lexer": "ipython3",
   "version": "3.9.18"
  }
 },
 "nbformat": 4,
 "nbformat_minor": 2
}
