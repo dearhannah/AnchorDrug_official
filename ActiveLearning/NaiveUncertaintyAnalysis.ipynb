{
 "cells": [
  {
   "cell_type": "code",
   "execution_count": 1,
   "metadata": {},
   "outputs": [],
   "source": [
    "import pickle, os\n",
    "import numpy as np\n",
    "import pandas as pd"
   ]
  },
  {
   "cell_type": "code",
   "execution_count": 2,
   "metadata": {},
   "outputs": [],
   "source": [
    "resDir = '/egr/research-aidd/menghan1/AnchorDrug/ActiveLearning/results'\n",
    "ctgr = os.listdir(resDir)\n",
    "genelist = ['HMGCS1', 'TOP2A', 'DNAJB1', 'PCNA', 'HMOX1']"
   ]
  },
  {
   "cell_type": "code",
   "execution_count": null,
   "metadata": {},
   "outputs": [],
   "source": [
    "def calMeanStd(f):\n",
    "    "
   ]
  },
  {
   "cell_type": "code",
   "execution_count": 3,
   "metadata": {},
   "outputs": [
    {
     "name": "stdout",
     "output_type": "stream",
     "text": [
      "naiveUncertainty1\n",
      "[0.36989043 0.41614957 0.34388278 0.37021526 0.40740987]\n",
      "[0.33824712 0.36313754 0.40452591 0.38648133 0.32071644]\n",
      "[0.34265422 0.4716433  0.42114562 0.37190128 0.44451495]\n",
      "naiveUncertainty2\n",
      "[0.39584178 0.42031171 0.32116711 0.36253325 0.42037577]\n",
      "[0.39920689 0.36968959 0.35223201 0.3911798  0.34558404]\n",
      "[0.35156536 0.38668401 0.37342507 0.37638575 0.43639968]\n"
     ]
    }
   ],
   "source": [
    "dictData = {key:{} for key in ctgr}\n",
    "for c in ctgr:\n",
    "    print(c)\n",
    "    dictTmp = dictData[c]\n",
    "    for cell in ['A549', 'MCF7', 'PC3']:\n",
    "        mtcPath = f'/egr/research-aidd/menghan1/AnchorDrug/ActiveLearning/results/{c}/LINCS_{cell}_LeastConfidence_10_0_30.pkl'\n",
    "        with open(mtcPath, 'rb') as f:\n",
    "            all_acc,all_f1 = pickle.load(f)\n",
    "        all_acc, all_f1 = np.array(all_acc), np.array(all_f1)\n",
    "        acc = np.mean(all_acc, axis=0)[-1]\n",
    "        f1 = np.mean(all_f1, axis=0)[-1]\n",
    "        print(f1)\n",
    "        dictTmp[cell] = {key:value for key, value in zip(genelist, f1)}\n",
    "        # print(np.mean(all_acc, axis=0)[-1].shape, np.mean(all_f1, axis=0)[-1].shape)"
   ]
  },
  {
   "cell_type": "code",
   "execution_count": 7,
   "metadata": {},
   "outputs": [
    {
     "name": "stdout",
     "output_type": "stream",
     "text": [
      "            A549      MCF7       PC3\n",
      "HMGCS1  0.369890  0.338247  0.342654\n",
      "TOP2A   0.416150  0.363138  0.471643\n",
      "DNAJB1  0.343883  0.404526  0.421146\n",
      "PCNA    0.370215  0.386481  0.371901\n",
      "HMOX1   0.407410  0.320716  0.444515\n",
      "0.3848343755647571 0.040914194058291845\n",
      "            A549      MCF7       PC3\n",
      "HMGCS1  0.395842  0.399207  0.351565\n",
      "TOP2A   0.420312  0.369690  0.386684\n",
      "DNAJB1  0.321167  0.352232  0.373425\n",
      "PCNA    0.362533  0.391180  0.376386\n",
      "HMOX1   0.420376  0.345584  0.436400\n",
      "0.3801721214574353 0.030461220760161854\n"
     ]
    }
   ],
   "source": [
    "for c in ctgr:\n",
    "    df = pd.DataFrame.from_dict(dictData[c])\n",
    "    print(df)\n",
    "    arr = df.to_numpy()\n",
    "    print(arr.mean(), arr.std())"
   ]
  }
 ],
 "metadata": {
  "kernelspec": {
   "display_name": "Python 3",
   "language": "python",
   "name": "python3"
  },
  "language_info": {
   "codemirror_mode": {
    "name": "ipython",
    "version": 3
   },
   "file_extension": ".py",
   "mimetype": "text/x-python",
   "name": "python",
   "nbconvert_exporter": "python",
   "pygments_lexer": "ipython3",
   "version": "3.9.18"
  }
 },
 "nbformat": 4,
 "nbformat_minor": 2
}
